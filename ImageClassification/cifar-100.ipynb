{
 "cells": [
  {
   "cell_type": "markdown",
   "id": "4c2506f4",
   "metadata": {
    "papermill": {
     "duration": 0.005946,
     "end_time": "2023-08-02T19:33:47.481857",
     "exception": false,
     "start_time": "2023-08-02T19:33:47.475911",
     "status": "completed"
    },
    "tags": []
   },
   "source": [
    "# Title\n",
    "Description"
   ]
  },
  {
   "cell_type": "markdown",
   "id": "b76c2eb5",
   "metadata": {
    "papermill": {
     "duration": 0.005114,
     "end_time": "2023-08-02T19:33:47.492683",
     "exception": false,
     "start_time": "2023-08-02T19:33:47.487569",
     "status": "completed"
    },
    "tags": []
   },
   "source": [
    "### Step 0: Function that checks if libraries are imported for different environments"
   ]
  },
  {
   "cell_type": "code",
   "execution_count": 1,
   "id": "2a246995",
   "metadata": {
    "execution": {
     "iopub.execute_input": "2023-08-02T19:33:47.506416Z",
     "iopub.status.busy": "2023-08-02T19:33:47.505585Z",
     "iopub.status.idle": "2023-08-02T19:33:47.521915Z",
     "shell.execute_reply": "2023-08-02T19:33:47.520728Z"
    },
    "papermill": {
     "duration": 0.02689,
     "end_time": "2023-08-02T19:33:47.524965",
     "exception": false,
     "start_time": "2023-08-02T19:33:47.498075",
     "status": "completed"
    },
    "tags": []
   },
   "outputs": [],
   "source": [
    "# Import the necessary libraries\n",
    "import importlib  # Allows for runtime importing of modules\n",
    "import subprocess  # Allows for the execution of bash commands within Python\n",
    "\n",
    "# Define the function that checks the modules' installation status and import them\n",
    "def check_installed_and_import(import_dict):\n",
    "    # Iterate over the dictionary items\n",
    "    for module, imported_as in import_dict.items():\n",
    "        try:\n",
    "            # Attempt to import the module using importlib\n",
    "            imported_module = importlib.import_module(module)\n",
    "            # If the import is successful, add the module to the global namespace under the 'imported_as' alias\n",
    "            globals()[imported_as] = imported_module\n",
    "            # Print a success message\n",
    "            print(f\"{module} imported as {imported_as}\")\n",
    "        # If the import fails, catch the exception\n",
    "        except Exception as e:\n",
    "            # Print a failure message\n",
    "            print(f\"FAILED: {module} imported as {imported_as}. Trying to install...\")\n",
    "            try:\n",
    "                # Try to install the module using pip via the subprocess module\n",
    "                base_module = module.split(\".\")[0]  # Get the base module, in case we're trying to import a submodule\n",
    "                subprocess.check_call(['pip', 'install', base_module])\n",
    "                # Try to import the module again\n",
    "                imported_module = importlib.import_module(module)\n",
    "                # If the import is successful this time, add the module to the global namespace under the 'imported_as' alias\n",
    "                globals()[imported_as] = imported_module\n",
    "                # Print a success message\n",
    "                print(f\"{module} imported as {imported_as}\")\n",
    "            # If the import still fails, catch the exception\n",
    "            except Exception as e:\n",
    "                # Print a final failure message along with the exception message\n",
    "                print(f\"FAILED: {module} imported as {imported_as}. Error: {e}\")"
   ]
  },
  {
   "cell_type": "markdown",
   "id": "d6cd468a",
   "metadata": {
    "papermill": {
     "duration": 0.005384,
     "end_time": "2023-08-02T19:33:47.536184",
     "exception": false,
     "start_time": "2023-08-02T19:33:47.530800",
     "status": "completed"
    },
    "tags": []
   },
   "source": [
    "### Step 1:  Import necessary libraries"
   ]
  },
  {
   "cell_type": "code",
   "execution_count": 2,
   "id": "ab516747",
   "metadata": {
    "_cell_guid": "b1076dfc-b9ad-4769-8c92-a6c4dae69d19",
    "_uuid": "8f2839f25d086af736a60e9eeb907d3b93b6e0e5",
    "execution": {
     "iopub.execute_input": "2023-08-02T19:33:47.549049Z",
     "iopub.status.busy": "2023-08-02T19:33:47.548607Z",
     "iopub.status.idle": "2023-08-02T19:33:59.481981Z",
     "shell.execute_reply": "2023-08-02T19:33:59.480440Z"
    },
    "papermill": {
     "duration": 11.943388,
     "end_time": "2023-08-02T19:33:59.485110",
     "exception": false,
     "start_time": "2023-08-02T19:33:47.541722",
     "status": "completed"
    },
    "tags": []
   },
   "outputs": [
    {
     "name": "stdout",
     "output_type": "stream",
     "text": [
      "os imported as os\n",
      "numpy imported as np\n"
     ]
    },
    {
     "name": "stderr",
     "output_type": "stream",
     "text": [
      "/opt/conda/lib/python3.10/site-packages/scipy/__init__.py:146: UserWarning: A NumPy version >=1.16.5 and <1.23.0 is required for this version of SciPy (detected version 1.23.5\n",
      "  warnings.warn(f\"A NumPy version >={np_minversion} and <{np_maxversion}\"\n",
      "/opt/conda/lib/python3.10/site-packages/tensorflow_io/python/ops/__init__.py:98: UserWarning: unable to load libtensorflow_io_plugins.so: unable to open file: libtensorflow_io_plugins.so, from paths: ['/opt/conda/lib/python3.10/site-packages/tensorflow_io/python/ops/libtensorflow_io_plugins.so']\n",
      "caused by: ['/opt/conda/lib/python3.10/site-packages/tensorflow_io/python/ops/libtensorflow_io_plugins.so: undefined symbol: _ZN3tsl6StatusC1EN10tensorflow5error4CodeESt17basic_string_viewIcSt11char_traitsIcEENS_14SourceLocationE']\n",
      "  warnings.warn(f\"unable to load libtensorflow_io_plugins.so: {e}\")\n",
      "/opt/conda/lib/python3.10/site-packages/tensorflow_io/python/ops/__init__.py:104: UserWarning: file system plugins are not loaded: unable to open file: libtensorflow_io.so, from paths: ['/opt/conda/lib/python3.10/site-packages/tensorflow_io/python/ops/libtensorflow_io.so']\n",
      "caused by: ['/opt/conda/lib/python3.10/site-packages/tensorflow_io/python/ops/libtensorflow_io.so: undefined symbol: _ZTVN10tensorflow13GcsFileSystemE']\n",
      "  warnings.warn(f\"file system plugins are not loaded: {e}\")\n"
     ]
    },
    {
     "name": "stdout",
     "output_type": "stream",
     "text": [
      "tensorflow imported as tf\n",
      "tensorflow.keras imported as keras\n",
      "tensorflow.keras.layers imported as layers\n",
      "tensorflow.keras.models imported as models\n",
      "tensorflow.keras.preprocessing.image imported as image\n",
      "tensorflow.keras.callbacks imported as callbacks\n",
      "tensorflow.keras.optimizers imported as optimizers\n"
     ]
    }
   ],
   "source": [
    "# Call the function with our dictionary to check the modules' installation and import them\n",
    "check_installed_and_import({\n",
    "    'os': 'os',\n",
    "    'numpy': 'np',\n",
    "    'tensorflow': 'tf',\n",
    "    'tensorflow.keras': 'keras',\n",
    "    'tensorflow.keras.layers': 'layers',\n",
    "    'tensorflow.keras.models': 'models',\n",
    "    'tensorflow.keras.preprocessing.image': 'image',\n",
    "    'tensorflow.keras.callbacks': 'callbacks',\n",
    "    'tensorflow.keras.optimizers': 'optimizers',\n",
    "})"
   ]
  },
  {
   "cell_type": "markdown",
   "id": "1026b740",
   "metadata": {
    "papermill": {
     "duration": 0.005642,
     "end_time": "2023-08-02T19:33:59.497029",
     "exception": false,
     "start_time": "2023-08-02T19:33:59.491387",
     "status": "completed"
    },
    "tags": []
   },
   "source": [
    "### Step 2: Data Preprocessing"
   ]
  },
  {
   "cell_type": "code",
   "execution_count": 3,
   "id": "657aa8b3",
   "metadata": {
    "execution": {
     "iopub.execute_input": "2023-08-02T19:33:59.511839Z",
     "iopub.status.busy": "2023-08-02T19:33:59.510538Z",
     "iopub.status.idle": "2023-08-02T19:34:09.721802Z",
     "shell.execute_reply": "2023-08-02T19:34:09.720398Z"
    },
    "papermill": {
     "duration": 10.221867,
     "end_time": "2023-08-02T19:34:09.724794",
     "exception": false,
     "start_time": "2023-08-02T19:33:59.502927",
     "status": "completed"
    },
    "tags": []
   },
   "outputs": [
    {
     "name": "stdout",
     "output_type": "stream",
     "text": [
      "Downloading data from https://www.cs.toronto.edu/~kriz/cifar-100-python.tar.gz\n",
      "169001437/169001437 [==============================] - 6s 0us/step\n"
     ]
    }
   ],
   "source": [
    "# Load the CIFAR-100 dataset\n",
    "(x_train, y_train), (x_test, y_test) = tf.keras.datasets.cifar100.load_data()\n",
    "\n",
    "# Normalize the data (scale pixel values between 0 and 1)\n",
    "x_train = x_train.astype('float32') / 255.0\n",
    "x_test = x_test.astype('float32') / 255.0\n",
    "\n",
    "# Convert labels to one-hot encoded vectors\n",
    "num_classes = 100\n",
    "y_train = tf.keras.utils.to_categorical(y_train, num_classes)\n",
    "y_test = tf.keras.utils.to_categorical(y_test, num_classes)\n",
    "\n",
    "# Data augmentation\n",
    "data_gen = image.ImageDataGenerator(\n",
    "    rotation_range=15,\n",
    "    width_shift_range=0.1,\n",
    "    height_shift_range=0.1,\n",
    "    horizontal_flip=True,\n",
    ")\n",
    "data_gen.fit(x_train)"
   ]
  },
  {
   "cell_type": "markdown",
   "id": "2026f021",
   "metadata": {
    "papermill": {
     "duration": 0.016616,
     "end_time": "2023-08-02T19:34:09.757172",
     "exception": false,
     "start_time": "2023-08-02T19:34:09.740556",
     "status": "completed"
    },
    "tags": []
   },
   "source": [
    "### Step 3: Build the CNN Architecture"
   ]
  },
  {
   "cell_type": "code",
   "execution_count": 4,
   "id": "255c4398",
   "metadata": {
    "execution": {
     "iopub.execute_input": "2023-08-02T19:34:09.791011Z",
     "iopub.status.busy": "2023-08-02T19:34:09.790626Z",
     "iopub.status.idle": "2023-08-02T19:34:10.269381Z",
     "shell.execute_reply": "2023-08-02T19:34:10.267824Z"
    },
    "papermill": {
     "duration": 0.499632,
     "end_time": "2023-08-02T19:34:10.272548",
     "exception": false,
     "start_time": "2023-08-02T19:34:09.772916",
     "status": "completed"
    },
    "tags": []
   },
   "outputs": [],
   "source": [
    "model = models.Sequential()\n",
    "model.add(layers.Conv2D(64, (3, 3), padding='same', activation='relu', input_shape=(32, 32, 3)))\n",
    "model.add(layers.BatchNormalization())\n",
    "model.add(layers.Conv2D(64, (3, 3), padding='same', activation='relu'))\n",
    "model.add(layers.BatchNormalization())\n",
    "model.add(layers.MaxPooling2D((2, 2)))\n",
    "model.add(layers.Dropout(0.2))\n",
    "\n",
    "model.add(layers.Conv2D(128, (3, 3), padding='same', activation='relu'))\n",
    "model.add(layers.BatchNormalization())\n",
    "model.add(layers.Conv2D(128, (3, 3), padding='same', activation='relu'))\n",
    "model.add(layers.BatchNormalization())\n",
    "model.add(layers.MaxPooling2D((2, 2)))\n",
    "model.add(layers.Dropout(0.3))\n",
    "\n",
    "model.add(layers.Conv2D(256, (3, 3), padding='same', activation='relu'))\n",
    "model.add(layers.BatchNormalization())\n",
    "model.add(layers.Conv2D(256, (3, 3), padding='same', activation='relu'))\n",
    "model.add(layers.BatchNormalization())\n",
    "model.add(layers.MaxPooling2D((2, 2)))\n",
    "model.add(layers.Dropout(0.4))\n",
    "\n",
    "model.add(layers.Flatten())\n",
    "model.add(layers.Dense(256, activation='relu'))\n",
    "model.add(layers.BatchNormalization())\n",
    "model.add(layers.Dropout(0.5))\n",
    "model.add(layers.Dense(num_classes, activation='softmax'))\n"
   ]
  },
  {
   "cell_type": "markdown",
   "id": "da69c2fb",
   "metadata": {
    "papermill": {
     "duration": 0.015468,
     "end_time": "2023-08-02T19:34:10.304263",
     "exception": false,
     "start_time": "2023-08-02T19:34:10.288795",
     "status": "completed"
    },
    "tags": []
   },
   "source": [
    "### Step 4: Compile the Model"
   ]
  },
  {
   "cell_type": "code",
   "execution_count": 5,
   "id": "2d48a1f5",
   "metadata": {
    "execution": {
     "iopub.execute_input": "2023-08-02T19:34:10.338157Z",
     "iopub.status.busy": "2023-08-02T19:34:10.337054Z",
     "iopub.status.idle": "2023-08-02T19:34:10.358944Z",
     "shell.execute_reply": "2023-08-02T19:34:10.357496Z"
    },
    "papermill": {
     "duration": 0.0419,
     "end_time": "2023-08-02T19:34:10.361798",
     "exception": false,
     "start_time": "2023-08-02T19:34:10.319898",
     "status": "completed"
    },
    "tags": []
   },
   "outputs": [],
   "source": [
    "opt = optimizers.Adam(learning_rate=0.001)\n",
    "model.compile(optimizer=opt,\n",
    "              loss='categorical_crossentropy',\n",
    "              metrics=['accuracy'])"
   ]
  },
  {
   "cell_type": "markdown",
   "id": "155bbcea",
   "metadata": {
    "papermill": {
     "duration": 0.015951,
     "end_time": "2023-08-02T19:34:10.393694",
     "exception": false,
     "start_time": "2023-08-02T19:34:10.377743",
     "status": "completed"
    },
    "tags": []
   },
   "source": [
    "### Step 5: Training the Model"
   ]
  },
  {
   "cell_type": "code",
   "execution_count": 6,
   "id": "1498d451",
   "metadata": {
    "execution": {
     "iopub.execute_input": "2023-08-02T19:34:10.427776Z",
     "iopub.status.busy": "2023-08-02T19:34:10.427369Z",
     "iopub.status.idle": "2023-08-03T06:32:04.527753Z",
     "shell.execute_reply": "2023-08-03T06:32:04.526395Z"
    },
    "papermill": {
     "duration": 39478.044748,
     "end_time": "2023-08-03T06:32:08.454718",
     "exception": false,
     "start_time": "2023-08-02T19:34:10.409970",
     "status": "completed"
    },
    "tags": []
   },
   "outputs": [
    {
     "name": "stdout",
     "output_type": "stream",
     "text": [
      "Epoch 1/50\n",
      "781/781 [==============================] - 759s 966ms/step - loss: 4.0695 - accuracy: 0.1049 - val_loss: 3.4209 - val_accuracy: 0.1843\n",
      "Epoch 2/50\n",
      "781/781 [==============================] - 751s 962ms/step - loss: 3.1973 - accuracy: 0.2191 - val_loss: 3.2780 - val_accuracy: 0.2158\n",
      "Epoch 3/50\n",
      "781/781 [==============================] - 755s 966ms/step - loss: 2.7418 - accuracy: 0.3024 - val_loss: 2.7379 - val_accuracy: 0.3112\n",
      "Epoch 4/50\n",
      "781/781 [==============================] - 752s 963ms/step - loss: 2.4956 - accuracy: 0.3523 - val_loss: 2.2584 - val_accuracy: 0.4085\n",
      "Epoch 5/50\n",
      "781/781 [==============================] - 752s 962ms/step - loss: 2.3029 - accuracy: 0.3919 - val_loss: 2.0926 - val_accuracy: 0.4491\n",
      "Epoch 6/50\n",
      "781/781 [==============================] - 752s 963ms/step - loss: 2.1743 - accuracy: 0.4215 - val_loss: 2.1358 - val_accuracy: 0.4385\n",
      "Epoch 7/50\n",
      "781/781 [==============================] - 755s 966ms/step - loss: 2.0608 - accuracy: 0.4472 - val_loss: 2.1340 - val_accuracy: 0.4450\n",
      "Epoch 8/50\n",
      "781/781 [==============================] - 755s 966ms/step - loss: 1.9785 - accuracy: 0.4642 - val_loss: 1.7597 - val_accuracy: 0.5182\n",
      "Epoch 9/50\n",
      "781/781 [==============================] - 754s 965ms/step - loss: 1.9030 - accuracy: 0.4812 - val_loss: 1.8630 - val_accuracy: 0.5012\n",
      "Epoch 10/50\n",
      "781/781 [==============================] - 756s 968ms/step - loss: 1.8434 - accuracy: 0.4962 - val_loss: 1.7044 - val_accuracy: 0.5369\n",
      "Epoch 11/50\n",
      "781/781 [==============================] - 755s 966ms/step - loss: 1.7772 - accuracy: 0.5097 - val_loss: 1.6632 - val_accuracy: 0.5454\n",
      "Epoch 12/50\n",
      "781/781 [==============================] - 760s 973ms/step - loss: 1.7479 - accuracy: 0.5180 - val_loss: 1.5945 - val_accuracy: 0.5546\n",
      "Epoch 13/50\n",
      "781/781 [==============================] - 754s 965ms/step - loss: 1.6898 - accuracy: 0.5344 - val_loss: 1.5890 - val_accuracy: 0.5633\n",
      "Epoch 14/50\n",
      "781/781 [==============================] - 756s 967ms/step - loss: 1.6628 - accuracy: 0.5373 - val_loss: 1.5841 - val_accuracy: 0.5651\n",
      "Epoch 15/50\n",
      "781/781 [==============================] - 758s 970ms/step - loss: 1.6231 - accuracy: 0.5471 - val_loss: 1.5917 - val_accuracy: 0.5636\n",
      "Epoch 16/50\n",
      "781/781 [==============================] - 757s 969ms/step - loss: 1.5942 - accuracy: 0.5526 - val_loss: 1.6804 - val_accuracy: 0.5546\n",
      "Epoch 17/50\n",
      "781/781 [==============================] - 759s 971ms/step - loss: 1.5562 - accuracy: 0.5624 - val_loss: 1.5051 - val_accuracy: 0.5833\n",
      "Epoch 18/50\n",
      "781/781 [==============================] - 760s 973ms/step - loss: 1.5296 - accuracy: 0.5726 - val_loss: 1.5310 - val_accuracy: 0.5785\n",
      "Epoch 19/50\n",
      "781/781 [==============================] - 761s 974ms/step - loss: 1.5118 - accuracy: 0.5757 - val_loss: 1.4568 - val_accuracy: 0.6006\n",
      "Epoch 20/50\n",
      "781/781 [==============================] - 762s 976ms/step - loss: 1.4807 - accuracy: 0.5826 - val_loss: 1.4645 - val_accuracy: 0.5994\n",
      "Epoch 21/50\n",
      "781/781 [==============================] - 764s 978ms/step - loss: 1.4491 - accuracy: 0.5904 - val_loss: 1.6360 - val_accuracy: 0.5736\n",
      "Epoch 22/50\n",
      "781/781 [==============================] - 763s 976ms/step - loss: 1.4368 - accuracy: 0.5909 - val_loss: 1.5938 - val_accuracy: 0.5764\n",
      "Epoch 23/50\n",
      "781/781 [==============================] - 766s 980ms/step - loss: 1.4255 - accuracy: 0.5980 - val_loss: 1.3636 - val_accuracy: 0.6211\n",
      "Epoch 24/50\n",
      "781/781 [==============================] - 765s 979ms/step - loss: 1.4057 - accuracy: 0.6018 - val_loss: 1.3993 - val_accuracy: 0.6125\n",
      "Epoch 25/50\n",
      "781/781 [==============================] - 775s 992ms/step - loss: 1.3765 - accuracy: 0.6072 - val_loss: 1.5462 - val_accuracy: 0.5866\n",
      "Epoch 26/50\n",
      "781/781 [==============================] - 779s 997ms/step - loss: 1.3650 - accuracy: 0.6112 - val_loss: 1.3690 - val_accuracy: 0.6224\n",
      "Epoch 27/50\n",
      "781/781 [==============================] - 768s 983ms/step - loss: 1.3500 - accuracy: 0.6149 - val_loss: 1.3728 - val_accuracy: 0.6166\n",
      "Epoch 28/50\n",
      "781/781 [==============================] - 768s 982ms/step - loss: 1.3270 - accuracy: 0.6212 - val_loss: 1.3440 - val_accuracy: 0.6267\n",
      "Epoch 29/50\n",
      "781/781 [==============================] - 766s 980ms/step - loss: 1.3112 - accuracy: 0.6244 - val_loss: 1.3109 - val_accuracy: 0.6333\n",
      "Epoch 30/50\n",
      "781/781 [==============================] - 765s 979ms/step - loss: 1.3098 - accuracy: 0.6261 - val_loss: 1.3956 - val_accuracy: 0.6192\n",
      "Epoch 31/50\n",
      "781/781 [==============================] - 767s 981ms/step - loss: 1.2823 - accuracy: 0.6334 - val_loss: 1.4712 - val_accuracy: 0.6080\n",
      "Epoch 32/50\n",
      "781/781 [==============================] - 771s 987ms/step - loss: 1.2745 - accuracy: 0.6349 - val_loss: 1.3570 - val_accuracy: 0.6304\n",
      "Epoch 33/50\n",
      "781/781 [==============================] - 774s 991ms/step - loss: 1.2559 - accuracy: 0.6381 - val_loss: 1.4602 - val_accuracy: 0.6043\n",
      "Epoch 34/50\n",
      "781/781 [==============================] - 775s 991ms/step - loss: 1.2420 - accuracy: 0.6409 - val_loss: 1.4050 - val_accuracy: 0.6196\n",
      "Epoch 35/50\n",
      "781/781 [==============================] - 779s 997ms/step - loss: 1.2296 - accuracy: 0.6454 - val_loss: 1.2981 - val_accuracy: 0.6425\n",
      "Epoch 36/50\n",
      "781/781 [==============================] - 777s 995ms/step - loss: 1.2320 - accuracy: 0.6455 - val_loss: 1.3795 - val_accuracy: 0.6266\n",
      "Epoch 37/50\n",
      "781/781 [==============================] - 775s 992ms/step - loss: 1.2153 - accuracy: 0.6496 - val_loss: 1.2927 - val_accuracy: 0.6431\n",
      "Epoch 38/50\n",
      "781/781 [==============================] - 777s 994ms/step - loss: 1.2055 - accuracy: 0.6524 - val_loss: 1.3599 - val_accuracy: 0.6322\n",
      "Epoch 39/50\n",
      "781/781 [==============================] - 771s 987ms/step - loss: 1.1870 - accuracy: 0.6572 - val_loss: 1.2906 - val_accuracy: 0.6449\n",
      "Epoch 40/50\n",
      "781/781 [==============================] - 773s 990ms/step - loss: 1.1702 - accuracy: 0.6613 - val_loss: 1.3566 - val_accuracy: 0.6282\n",
      "Epoch 41/50\n",
      "781/781 [==============================] - 772s 988ms/step - loss: 1.1692 - accuracy: 0.6604 - val_loss: 1.2542 - val_accuracy: 0.6559\n",
      "Epoch 42/50\n",
      "781/781 [==============================] - 774s 990ms/step - loss: 1.1627 - accuracy: 0.6630 - val_loss: 1.3201 - val_accuracy: 0.6414\n",
      "Epoch 43/50\n",
      "781/781 [==============================] - 777s 995ms/step - loss: 1.1504 - accuracy: 0.6644 - val_loss: 1.2371 - val_accuracy: 0.6616\n",
      "Epoch 44/50\n",
      "781/781 [==============================] - 788s 1s/step - loss: 1.1411 - accuracy: 0.6697 - val_loss: 1.2673 - val_accuracy: 0.6514\n",
      "Epoch 45/50\n",
      "781/781 [==============================] - 794s 1s/step - loss: 1.1339 - accuracy: 0.6705 - val_loss: 1.2894 - val_accuracy: 0.6493\n",
      "Epoch 46/50\n",
      "781/781 [==============================] - 794s 1s/step - loss: 1.1311 - accuracy: 0.6721 - val_loss: 1.2480 - val_accuracy: 0.6537\n",
      "Epoch 47/50\n",
      "781/781 [==============================] - 794s 1s/step - loss: 1.1153 - accuracy: 0.6752 - val_loss: 1.2807 - val_accuracy: 0.6468\n",
      "Epoch 48/50\n",
      "781/781 [==============================] - 791s 1s/step - loss: 1.1204 - accuracy: 0.6722 - val_loss: 1.3765 - val_accuracy: 0.6368\n",
      "Epoch 49/50\n",
      "781/781 [==============================] - 791s 1s/step - loss: 1.1067 - accuracy: 0.6754 - val_loss: 1.3040 - val_accuracy: 0.6454\n",
      "Epoch 50/50\n",
      "781/781 [==============================] - 793s 1s/step - loss: 1.0926 - accuracy: 0.6802 - val_loss: 1.2615 - val_accuracy: 0.6533\n"
     ]
    }
   ],
   "source": [
    "epochs = 50\n",
    "batch_size = 64\n",
    "early_stopping = callbacks.EarlyStopping(monitor='val_loss', patience=10)\n",
    "\n",
    "history = model.fit(\n",
    "    data_gen.flow(x_train, y_train, batch_size=batch_size),\n",
    "    steps_per_epoch=len(x_train) / batch_size,\n",
    "    epochs=epochs,\n",
    "    validation_data=(x_test, y_test),\n",
    "    callbacks=[early_stopping]\n",
    ")"
   ]
  },
  {
   "cell_type": "markdown",
   "id": "b09c1a35",
   "metadata": {
    "papermill": {
     "duration": 3.682018,
     "end_time": "2023-08-03T06:32:16.008164",
     "exception": false,
     "start_time": "2023-08-03T06:32:12.326146",
     "status": "completed"
    },
    "tags": []
   },
   "source": [
    "### Step 6: Evaluate the Model"
   ]
  },
  {
   "cell_type": "code",
   "execution_count": 7,
   "id": "35b46066",
   "metadata": {
    "execution": {
     "iopub.execute_input": "2023-08-03T06:32:23.531283Z",
     "iopub.status.busy": "2023-08-03T06:32:23.530862Z",
     "iopub.status.idle": "2023-08-03T06:33:05.076643Z",
     "shell.execute_reply": "2023-08-03T06:33:05.075156Z"
    },
    "papermill": {
     "duration": 45.198512,
     "end_time": "2023-08-03T06:33:05.079300",
     "exception": false,
     "start_time": "2023-08-03T06:32:19.880788",
     "status": "completed"
    },
    "tags": []
   },
   "outputs": [
    {
     "name": "stdout",
     "output_type": "stream",
     "text": [
      "313/313 [==============================] - 34s 108ms/step - loss: 1.2615 - accuracy: 0.6533\n",
      "Test Accuracy: 65.33%\n"
     ]
    }
   ],
   "source": [
    "test_loss, test_accuracy = model.evaluate(x_test, y_test)\n",
    "print(f\"Test Accuracy: {test_accuracy * 100:.2f}%\")"
   ]
  },
  {
   "cell_type": "markdown",
   "id": "02674118",
   "metadata": {
    "papermill": {
     "duration": 3.953901,
     "end_time": "2023-08-03T06:33:12.722517",
     "exception": false,
     "start_time": "2023-08-03T06:33:08.768616",
     "status": "completed"
    },
    "tags": []
   },
   "source": [
    "### Step 7: Fine-tuning"
   ]
  },
  {
   "cell_type": "code",
   "execution_count": null,
   "id": "06b0615a",
   "metadata": {
    "papermill": {
     "duration": 3.696222,
     "end_time": "2023-08-03T06:33:20.363245",
     "exception": false,
     "start_time": "2023-08-03T06:33:16.667023",
     "status": "completed"
    },
    "tags": []
   },
   "outputs": [],
   "source": []
  }
 ],
 "metadata": {
  "kernelspec": {
   "display_name": "Python 3",
   "language": "python",
   "name": "python3"
  },
  "language_info": {
   "codemirror_mode": {
    "name": "ipython",
    "version": 3
   },
   "file_extension": ".py",
   "mimetype": "text/x-python",
   "name": "python",
   "nbconvert_exporter": "python",
   "pygments_lexer": "ipython3",
   "version": "3.10.12"
  },
  "papermill": {
   "default_parameters": {},
   "duration": 39592.631036,
   "end_time": "2023-08-03T06:33:27.704975",
   "environment_variables": {},
   "exception": null,
   "input_path": "__notebook__.ipynb",
   "output_path": "__notebook__.ipynb",
   "parameters": {},
   "start_time": "2023-08-02T19:33:35.073939",
   "version": "2.4.0"
  }
 },
 "nbformat": 4,
 "nbformat_minor": 5
}
