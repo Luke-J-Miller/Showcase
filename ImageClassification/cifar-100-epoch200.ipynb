{
 "cells": [
  {
   "cell_type": "markdown",
   "id": "08dcea76",
   "metadata": {
    "papermill": {
     "duration": 0.006009,
     "end_time": "2023-08-03T00:35:02.762674",
     "exception": false,
     "start_time": "2023-08-03T00:35:02.756665",
     "status": "completed"
    },
    "tags": []
   },
   "source": [
    "# Title\n",
    "Description"
   ]
  },
  {
   "cell_type": "markdown",
   "id": "aa7aab02",
   "metadata": {
    "papermill": {
     "duration": 0.005068,
     "end_time": "2023-08-03T00:35:02.773236",
     "exception": false,
     "start_time": "2023-08-03T00:35:02.768168",
     "status": "completed"
    },
    "tags": []
   },
   "source": [
    "### Step 0: Function that checks if libraries are imported for different environments"
   ]
  },
  {
   "cell_type": "code",
   "execution_count": 1,
   "id": "2c26f981",
   "metadata": {
    "execution": {
     "iopub.execute_input": "2023-08-03T00:35:02.785583Z",
     "iopub.status.busy": "2023-08-03T00:35:02.784854Z",
     "iopub.status.idle": "2023-08-03T00:35:02.799792Z",
     "shell.execute_reply": "2023-08-03T00:35:02.798969Z"
    },
    "papermill": {
     "duration": 0.02322,
     "end_time": "2023-08-03T00:35:02.801731",
     "exception": false,
     "start_time": "2023-08-03T00:35:02.778511",
     "status": "completed"
    },
    "tags": []
   },
   "outputs": [],
   "source": [
    "# Import the necessary libraries\n",
    "import importlib  # Allows for runtime importing of modules\n",
    "import subprocess  # Allows for the execution of bash commands within Python\n",
    "\n",
    "# Define the function that checks the modules' installation status and import them\n",
    "def check_installed_and_import(import_dict):\n",
    "    # Iterate over the dictionary items\n",
    "    for module, imported_as in import_dict.items():\n",
    "        try:\n",
    "            # Attempt to import the module using importlib\n",
    "            imported_module = importlib.import_module(module)\n",
    "            # If the import is successful, add the module to the global namespace under the 'imported_as' alias\n",
    "            globals()[imported_as] = imported_module\n",
    "            # Print a success message\n",
    "            print(f\"{module} imported as {imported_as}\")\n",
    "        # If the import fails, catch the exception\n",
    "        except Exception as e:\n",
    "            # Print a failure message\n",
    "            print(f\"FAILED: {module} imported as {imported_as}. Trying to install...\")\n",
    "            try:\n",
    "                # Try to install the module using pip via the subprocess module\n",
    "                base_module = module.split(\".\")[0]  # Get the base module, in case we're trying to import a submodule\n",
    "                subprocess.check_call(['pip', 'install', base_module])\n",
    "                # Try to import the module again\n",
    "                imported_module = importlib.import_module(module)\n",
    "                # If the import is successful this time, add the module to the global namespace under the 'imported_as' alias\n",
    "                globals()[imported_as] = imported_module\n",
    "                # Print a success message\n",
    "                print(f\"{module} imported as {imported_as}\")\n",
    "            # If the import still fails, catch the exception\n",
    "            except Exception as e:\n",
    "                # Print a final failure message along with the exception message\n",
    "                print(f\"FAILED: {module} imported as {imported_as}. Error: {e}\")"
   ]
  },
  {
   "cell_type": "markdown",
   "id": "8c68f85a",
   "metadata": {
    "papermill": {
     "duration": 0.005062,
     "end_time": "2023-08-03T00:35:02.812023",
     "exception": false,
     "start_time": "2023-08-03T00:35:02.806961",
     "status": "completed"
    },
    "tags": []
   },
   "source": [
    "### Step 1a:  Import necessary libraries"
   ]
  },
  {
   "cell_type": "code",
   "execution_count": 2,
   "id": "b9dc9643",
   "metadata": {
    "_cell_guid": "b1076dfc-b9ad-4769-8c92-a6c4dae69d19",
    "_uuid": "8f2839f25d086af736a60e9eeb907d3b93b6e0e5",
    "execution": {
     "iopub.execute_input": "2023-08-03T00:35:02.823547Z",
     "iopub.status.busy": "2023-08-03T00:35:02.823293Z",
     "iopub.status.idle": "2023-08-03T00:35:14.360637Z",
     "shell.execute_reply": "2023-08-03T00:35:14.359564Z"
    },
    "papermill": {
     "duration": 11.545579,
     "end_time": "2023-08-03T00:35:14.362791",
     "exception": false,
     "start_time": "2023-08-03T00:35:02.817212",
     "status": "completed"
    },
    "tags": []
   },
   "outputs": [
    {
     "name": "stdout",
     "output_type": "stream",
     "text": [
      "graphviz imported as graphviz\n",
      "IPython.display imported as Ipy\n"
     ]
    },
    {
     "name": "stderr",
     "output_type": "stream",
     "text": [
      "/opt/conda/lib/python3.10/site-packages/scipy/__init__.py:146: UserWarning: A NumPy version >=1.16.5 and <1.23.0 is required for this version of SciPy (detected version 1.23.5\n",
      "  warnings.warn(f\"A NumPy version >={np_minversion} and <{np_maxversion}\"\n",
      "/opt/conda/lib/python3.10/site-packages/tensorflow_io/python/ops/__init__.py:98: UserWarning: unable to load libtensorflow_io_plugins.so: unable to open file: libtensorflow_io_plugins.so, from paths: ['/opt/conda/lib/python3.10/site-packages/tensorflow_io/python/ops/libtensorflow_io_plugins.so']\n",
      "caused by: ['/opt/conda/lib/python3.10/site-packages/tensorflow_io/python/ops/libtensorflow_io_plugins.so: undefined symbol: _ZN3tsl6StatusC1EN10tensorflow5error4CodeESt17basic_string_viewIcSt11char_traitsIcEENS_14SourceLocationE']\n",
      "  warnings.warn(f\"unable to load libtensorflow_io_plugins.so: {e}\")\n",
      "/opt/conda/lib/python3.10/site-packages/tensorflow_io/python/ops/__init__.py:104: UserWarning: file system plugins are not loaded: unable to open file: libtensorflow_io.so, from paths: ['/opt/conda/lib/python3.10/site-packages/tensorflow_io/python/ops/libtensorflow_io.so']\n",
      "caused by: ['/opt/conda/lib/python3.10/site-packages/tensorflow_io/python/ops/libtensorflow_io.so: undefined symbol: _ZTVN10tensorflow13GcsFileSystemE']\n",
      "  warnings.warn(f\"file system plugins are not loaded: {e}\")\n"
     ]
    },
    {
     "name": "stdout",
     "output_type": "stream",
     "text": [
      "kerastuner imported as kerastuner\n",
      "kerastuner.tuners imported as tuners\n",
      "os imported as os\n",
      "matplotlib.pyplot imported as plt\n",
      "numpy imported as np\n",
      "pydot imported as pydot\n",
      "tensorflow imported as tf\n",
      "tensorflow.keras imported as keras\n",
      "tensorflow.keras.callbacks imported as callbacks\n",
      "tensorflow.keras.layers imported as layers\n",
      "tensorflow.keras.models imported as models\n",
      "tensorflow.keras.optimizers imported as optimizers\n",
      "tensorflow.keras.mixed_precision imported as mixed_precision\n",
      "tensorflow.keras.utils imported as utils\n",
      "tensorflow.keras.preprocessing.image imported as image\n"
     ]
    }
   ],
   "source": [
    "# Call the function with our dictionary to check the modules' installation and import them\n",
    "check_installed_and_import({\n",
    "    'graphviz': 'graphviz',\n",
    "    'IPython.display': 'Ipy',\n",
    "    'kerastuner': 'kerastuner',\n",
    "    'kerastuner.tuners': 'tuners',\n",
    "    'os': 'os',\n",
    "    'matplotlib.pyplot': 'plt',\n",
    "    'numpy': 'np',\n",
    "    'pydot': 'pydot',\n",
    "    'tensorflow': 'tf',\n",
    "    'tensorflow.keras': 'keras',\n",
    "    'tensorflow.keras.callbacks': 'callbacks',\n",
    "    'tensorflow.keras.layers': 'layers',\n",
    "    'tensorflow.keras.models': 'models',\n",
    "    'tensorflow.keras.optimizers': 'optimizers',\n",
    "    'tensorflow.keras.mixed_precision': 'mixed_precision',\n",
    "    'tensorflow.keras.utils': 'utils',\n",
    "    'tensorflow.keras.preprocessing.image': 'image',    \n",
    "})\n"
   ]
  },
  {
   "cell_type": "markdown",
   "id": "505b7684",
   "metadata": {
    "papermill": {
     "duration": 0.005523,
     "end_time": "2023-08-03T00:35:14.374235",
     "exception": false,
     "start_time": "2023-08-03T00:35:14.368712",
     "status": "completed"
    },
    "tags": []
   },
   "source": [
    "### Step 1b:  Speeding things up."
   ]
  },
  {
   "cell_type": "code",
   "execution_count": 3,
   "id": "4085e3fd",
   "metadata": {
    "execution": {
     "iopub.execute_input": "2023-08-03T00:35:14.387128Z",
     "iopub.status.busy": "2023-08-03T00:35:14.386597Z",
     "iopub.status.idle": "2023-08-03T00:35:14.391120Z",
     "shell.execute_reply": "2023-08-03T00:35:14.390123Z"
    },
    "papermill": {
     "duration": 0.013368,
     "end_time": "2023-08-03T00:35:14.393203",
     "exception": false,
     "start_time": "2023-08-03T00:35:14.379835",
     "status": "completed"
    },
    "tags": []
   },
   "outputs": [],
   "source": [
    "# Enable mixed precision training\n",
    "#policy = mixed_precision.Policy('mixed_float16')\n",
    "#mixed_precision.set_global_policy(policy)"
   ]
  },
  {
   "cell_type": "markdown",
   "id": "2261d0df",
   "metadata": {
    "papermill": {
     "duration": 0.005469,
     "end_time": "2023-08-03T00:35:14.404287",
     "exception": false,
     "start_time": "2023-08-03T00:35:14.398818",
     "status": "completed"
    },
    "tags": []
   },
   "source": [
    "### Step 1c:  variables for flow control"
   ]
  },
  {
   "cell_type": "code",
   "execution_count": 4,
   "id": "7dbb0b60",
   "metadata": {
    "execution": {
     "iopub.execute_input": "2023-08-03T00:35:14.416482Z",
     "iopub.status.busy": "2023-08-03T00:35:14.416215Z",
     "iopub.status.idle": "2023-08-03T00:35:14.420194Z",
     "shell.execute_reply": "2023-08-03T00:35:14.419186Z"
    },
    "papermill": {
     "duration": 0.012736,
     "end_time": "2023-08-03T00:35:14.422565",
     "exception": false,
     "start_time": "2023-08-03T00:35:14.409829",
     "status": "completed"
    },
    "tags": []
   },
   "outputs": [],
   "source": [
    "keras_tuning = False"
   ]
  },
  {
   "cell_type": "markdown",
   "id": "e4eb6171",
   "metadata": {
    "papermill": {
     "duration": 0.005382,
     "end_time": "2023-08-03T00:35:14.433568",
     "exception": false,
     "start_time": "2023-08-03T00:35:14.428186",
     "status": "completed"
    },
    "tags": []
   },
   "source": [
    "### Step 2: Data Preprocessing"
   ]
  },
  {
   "cell_type": "code",
   "execution_count": 5,
   "id": "c7b099e2",
   "metadata": {
    "execution": {
     "iopub.execute_input": "2023-08-03T00:35:14.445673Z",
     "iopub.status.busy": "2023-08-03T00:35:14.445419Z",
     "iopub.status.idle": "2023-08-03T00:35:22.588409Z",
     "shell.execute_reply": "2023-08-03T00:35:22.587359Z"
    },
    "papermill": {
     "duration": 8.152062,
     "end_time": "2023-08-03T00:35:22.591197",
     "exception": false,
     "start_time": "2023-08-03T00:35:14.439135",
     "status": "completed"
    },
    "tags": []
   },
   "outputs": [
    {
     "name": "stdout",
     "output_type": "stream",
     "text": [
      "Downloading data from https://www.cs.toronto.edu/~kriz/cifar-100-python.tar.gz\n",
      "169001437/169001437 [==============================] - 3s 0us/step\n"
     ]
    }
   ],
   "source": [
    "# Load the CIFAR-100 dataset\n",
    "(x_train, y_train), (x_test, y_test) = tf.keras.datasets.cifar100.load_data()\n",
    "\n",
    "# Normalize the data (scale pixel values between 0 and 1)\n",
    "x_train = x_train.astype('float32') / 255.0\n",
    "x_test = x_test.astype('float32') / 255.0\n",
    "\n",
    "# Convert labels to one-hot encoded vectors\n",
    "num_classes = 100\n",
    "y_train = tf.keras.utils.to_categorical(y_train, num_classes)\n",
    "y_test = tf.keras.utils.to_categorical(y_test, num_classes)\n",
    "\n",
    "# Data augmentation\n",
    "data_gen = image.ImageDataGenerator(\n",
    "    rotation_range=15,\n",
    "    width_shift_range=0.1,\n",
    "    height_shift_range=0.1,\n",
    "    horizontal_flip=True,\n",
    ")\n",
    "data_gen.fit(x_train)"
   ]
  },
  {
   "cell_type": "markdown",
   "id": "1ae2eb3c",
   "metadata": {
    "papermill": {
     "duration": 0.010496,
     "end_time": "2023-08-03T00:35:22.614530",
     "exception": false,
     "start_time": "2023-08-03T00:35:22.604034",
     "status": "completed"
    },
    "tags": []
   },
   "source": [
    "### Step 3: Build the CNN Architecture"
   ]
  },
  {
   "cell_type": "code",
   "execution_count": 6,
   "id": "d83d9bc2",
   "metadata": {
    "execution": {
     "iopub.execute_input": "2023-08-03T00:35:22.637850Z",
     "iopub.status.busy": "2023-08-03T00:35:22.637563Z",
     "iopub.status.idle": "2023-08-03T00:35:27.521605Z",
     "shell.execute_reply": "2023-08-03T00:35:27.520644Z"
    },
    "papermill": {
     "duration": 4.89908,
     "end_time": "2023-08-03T00:35:27.524260",
     "exception": false,
     "start_time": "2023-08-03T00:35:22.625180",
     "status": "completed"
    },
    "tags": []
   },
   "outputs": [],
   "source": [
    "strategy = tf.distribute.MirroredStrategy()\n",
    "if keras_tuning:\n",
    "    def build_model(hp):\n",
    "        with strategy.scope():\n",
    "            model = models.Sequential()\n",
    "            model.add(layers.Conv2D(32, (3, 3), activation='relu', input_shape=(32, 32, 3)))\n",
    "            model.add(layers.MaxPooling2D((2, 2)))\n",
    "            model.add(layers.Conv2D(64, (3, 3), activation='relu'))\n",
    "            model.add(layers.MaxPooling2D((2, 2)))\n",
    "            model.add(layers.Conv2D(128, (3, 3), activation='relu'))\n",
    "            model.add(layers.Flatten())\n",
    "            model.add(layers.Dense(256, activation='relu'))\n",
    "            model.add(layers.Dense(num_classes, activation='softmax'))\n",
    "\n",
    "            # Use hp.Choice to select learning rate\n",
    "            lr = hp.Choice('learning_rate', values=[1e-2, 1e-3, 1e-4])\n",
    "\n",
    "            model.compile(optimizer=optimizers.Adam(learning_rate=lr),\n",
    "                        loss='categorical_crossentropy',\n",
    "                        metrics=['accuracy'])\n",
    "            return model\n",
    "    tuner = tuners.RandomSearch(\n",
    "        build_model,\n",
    "        objective='val_accuracy',\n",
    "        max_trials=5,\n",
    "        executions_per_trial=3,\n",
    "        directory='my_dir',\n",
    "        project_name='Keras_Tuned_CIFAR-100')\n",
    "\n",
    "    tuner.search(x_train, y_train,\n",
    "                epochs=5,\n",
    "                validation_data=(x_test, y_test))\n",
    "\n",
    "else:\n",
    "    def build_model():\n",
    "        model = models.Sequential()\n",
    "        model.add(layers.Conv2D(64, (3, 3), padding='same', activation='relu', input_shape=(32, 32, 3)))\n",
    "        model.add(layers.BatchNormalization())\n",
    "        model.add(layers.Conv2D(64, (3, 3), padding='same', activation='relu'))\n",
    "        model.add(layers.BatchNormalization())\n",
    "        model.add(layers.MaxPooling2D((2, 2)))\n",
    "        model.add(layers.Dropout(0.2))\n",
    "\n",
    "        model.add(layers.Conv2D(128, (3, 3), padding='same', activation='relu'))\n",
    "        model.add(layers.BatchNormalization())\n",
    "        model.add(layers.Conv2D(128, (3, 3), padding='same', activation='relu'))\n",
    "        model.add(layers.BatchNormalization())\n",
    "        model.add(layers.MaxPooling2D((2, 2)))\n",
    "        model.add(layers.Dropout(0.3))\n",
    "\n",
    "        model.add(layers.Conv2D(256, (3, 3), padding='same', activation='relu'))\n",
    "        model.add(layers.BatchNormalization())\n",
    "        model.add(layers.Conv2D(256, (3, 3), padding='same', activation='relu'))\n",
    "        model.add(layers.BatchNormalization())\n",
    "        model.add(layers.MaxPooling2D((2, 2)))\n",
    "        model.add(layers.Dropout(0.4))\n",
    "\n",
    "        model.add(layers.Flatten())\n",
    "        model.add(layers.Dense(256, activation='relu'))\n",
    "        model.add(layers.BatchNormalization())\n",
    "        model.add(layers.Dropout(0.5))\n",
    "        model.add(layers.Dense(num_classes, activation='softmax'))\n",
    "        return model\n"
   ]
  },
  {
   "cell_type": "markdown",
   "id": "099e4b11",
   "metadata": {
    "papermill": {
     "duration": 0.010653,
     "end_time": "2023-08-03T00:35:27.546154",
     "exception": false,
     "start_time": "2023-08-03T00:35:27.535501",
     "status": "completed"
    },
    "tags": []
   },
   "source": [
    "### Step 4: Compile the Model"
   ]
  },
  {
   "cell_type": "markdown",
   "id": "7e30dbd9",
   "metadata": {
    "execution": {
     "iopub.execute_input": "2023-08-02T23:24:06.847568Z",
     "iopub.status.busy": "2023-08-02T23:24:06.847214Z",
     "iopub.status.idle": "2023-08-02T23:24:07.588400Z",
     "shell.execute_reply": "2023-08-02T23:24:07.586819Z",
     "shell.execute_reply.started": "2023-08-02T23:24:06.847532Z"
    },
    "papermill": {
     "duration": 0.010425,
     "end_time": "2023-08-03T00:35:27.567229",
     "exception": false,
     "start_time": "2023-08-03T00:35:27.556804",
     "status": "completed"
    },
    "tags": []
   },
   "source": [
    "if not keras_tuning:\n",
    "    opt = optimizers.Adam(learning_rate=0.01)\n",
    "    model.compile(optimizer=opt,\n",
    "                  loss='categorical_crossentropy',\n",
    "                  metrics=['accuracy'])\n",
    "    utils.plot_model(model, show_shapes=True, to_file='model.png', show_layer_names=True)\n",
    "    img = Ipy.Image(filename='model.png')\n",
    "    Ipy.display(img)\n"
   ]
  },
  {
   "cell_type": "markdown",
   "id": "d06ddad4",
   "metadata": {
    "papermill": {
     "duration": 0.010315,
     "end_time": "2023-08-03T00:35:27.588254",
     "exception": false,
     "start_time": "2023-08-03T00:35:27.577939",
     "status": "completed"
    },
    "tags": []
   },
   "source": [
    "### Step 5: Training the Model"
   ]
  },
  {
   "cell_type": "code",
   "execution_count": 7,
   "id": "14bf2fdf",
   "metadata": {
    "execution": {
     "iopub.execute_input": "2023-08-03T00:35:27.611206Z",
     "iopub.status.busy": "2023-08-03T00:35:27.610435Z",
     "iopub.status.idle": "2023-08-03T01:16:14.730867Z",
     "shell.execute_reply": "2023-08-03T01:16:14.729832Z"
    },
    "papermill": {
     "duration": 2447.134432,
     "end_time": "2023-08-03T01:16:14.733134",
     "exception": false,
     "start_time": "2023-08-03T00:35:27.598702",
     "status": "completed"
    },
    "tags": []
   },
   "outputs": [
    {
     "name": "stdout",
     "output_type": "stream",
     "text": [
      "Epoch 1/200\n"
     ]
    },
    {
     "name": "stderr",
     "output_type": "stream",
     "text": [
      "2023-08-03 00:35:34.153324: E tensorflow/core/grappler/optimizers/meta_optimizer.cc:954] layout failed: INVALID_ARGUMENT: Size of values 0 does not match size of permutation 4 @ fanin shape insequential/dropout/dropout/SelectV2-2-TransposeNHWCToNCHW-LayoutOptimizer\n"
     ]
    },
    {
     "name": "stdout",
     "output_type": "stream",
     "text": [
      "781/781 [==============================] - 70s 62ms/step - loss: 4.0523 - accuracy: 0.0926 - val_loss: 3.8347 - val_accuracy: 0.1423\n",
      "Epoch 2/200\n",
      "781/781 [==============================] - 45s 58ms/step - loss: 3.3892 - accuracy: 0.1821 - val_loss: 3.0315 - val_accuracy: 0.2541\n",
      "Epoch 3/200\n",
      "781/781 [==============================] - 47s 60ms/step - loss: 3.0391 - accuracy: 0.2445 - val_loss: 3.0133 - val_accuracy: 0.2625\n",
      "Epoch 4/200\n",
      "781/781 [==============================] - 46s 58ms/step - loss: 2.7825 - accuracy: 0.2935 - val_loss: 2.4020 - val_accuracy: 0.3810\n",
      "Epoch 5/200\n",
      "781/781 [==============================] - 47s 60ms/step - loss: 2.5966 - accuracy: 0.3312 - val_loss: 2.4666 - val_accuracy: 0.3723\n",
      "Epoch 6/200\n",
      "781/781 [==============================] - 46s 59ms/step - loss: 2.4667 - accuracy: 0.3582 - val_loss: 2.2314 - val_accuracy: 0.4158\n",
      "Epoch 7/200\n",
      "781/781 [==============================] - 46s 59ms/step - loss: 2.3630 - accuracy: 0.3823 - val_loss: 2.2897 - val_accuracy: 0.4256\n",
      "Epoch 8/200\n",
      "781/781 [==============================] - 45s 58ms/step - loss: 2.2955 - accuracy: 0.3956 - val_loss: 2.0679 - val_accuracy: 0.4563\n",
      "Epoch 9/200\n",
      "781/781 [==============================] - 46s 59ms/step - loss: 2.2178 - accuracy: 0.4119 - val_loss: 2.0146 - val_accuracy: 0.4691\n",
      "Epoch 10/200\n",
      "781/781 [==============================] - 46s 59ms/step - loss: 2.1388 - accuracy: 0.4305 - val_loss: 1.8872 - val_accuracy: 0.4905\n",
      "Epoch 11/200\n",
      "781/781 [==============================] - 48s 61ms/step - loss: 2.0946 - accuracy: 0.4418 - val_loss: 1.9067 - val_accuracy: 0.4969\n",
      "Epoch 12/200\n",
      "781/781 [==============================] - 46s 58ms/step - loss: 2.0465 - accuracy: 0.4516 - val_loss: 1.9189 - val_accuracy: 0.4982\n",
      "Epoch 13/200\n",
      "781/781 [==============================] - 46s 59ms/step - loss: 1.9952 - accuracy: 0.4637 - val_loss: 2.2674 - val_accuracy: 0.4521\n",
      "Epoch 14/200\n",
      "781/781 [==============================] - 48s 61ms/step - loss: 1.9586 - accuracy: 0.4744 - val_loss: 1.9158 - val_accuracy: 0.5110\n",
      "Epoch 15/200\n",
      "781/781 [==============================] - 46s 59ms/step - loss: 1.9259 - accuracy: 0.4811 - val_loss: 1.8104 - val_accuracy: 0.5230\n",
      "Epoch 16/200\n",
      "781/781 [==============================] - 48s 61ms/step - loss: 1.8886 - accuracy: 0.4876 - val_loss: 1.6768 - val_accuracy: 0.5460\n",
      "Epoch 17/200\n",
      "781/781 [==============================] - 51s 65ms/step - loss: 1.8650 - accuracy: 0.4917 - val_loss: 1.9081 - val_accuracy: 0.5126\n",
      "Epoch 18/200\n",
      "781/781 [==============================] - 47s 60ms/step - loss: 1.8392 - accuracy: 0.5019 - val_loss: 2.1016 - val_accuracy: 0.4730\n",
      "Epoch 19/200\n",
      "781/781 [==============================] - 50s 64ms/step - loss: 1.8102 - accuracy: 0.5088 - val_loss: 1.7072 - val_accuracy: 0.5370\n",
      "Epoch 20/200\n",
      "781/781 [==============================] - 47s 60ms/step - loss: 1.7798 - accuracy: 0.5139 - val_loss: 1.7554 - val_accuracy: 0.5372\n",
      "Epoch 21/200\n",
      "781/781 [==============================] - 49s 62ms/step - loss: 1.7605 - accuracy: 0.5180 - val_loss: 1.7514 - val_accuracy: 0.5443\n",
      "Epoch 22/200\n",
      "781/781 [==============================] - 47s 61ms/step - loss: 1.7351 - accuracy: 0.5252 - val_loss: 1.5737 - val_accuracy: 0.5790\n",
      "Epoch 23/200\n",
      "781/781 [==============================] - 49s 63ms/step - loss: 1.7185 - accuracy: 0.5282 - val_loss: 1.5920 - val_accuracy: 0.5712\n",
      "Epoch 24/200\n",
      "781/781 [==============================] - 50s 63ms/step - loss: 1.6903 - accuracy: 0.5351 - val_loss: 1.5804 - val_accuracy: 0.5658\n",
      "Epoch 25/200\n",
      "781/781 [==============================] - 49s 62ms/step - loss: 1.6754 - accuracy: 0.5389 - val_loss: 1.6673 - val_accuracy: 0.5611\n",
      "Epoch 26/200\n",
      "781/781 [==============================] - 48s 61ms/step - loss: 1.6552 - accuracy: 0.5435 - val_loss: 1.6614 - val_accuracy: 0.5652\n",
      "Epoch 27/200\n",
      "781/781 [==============================] - 49s 63ms/step - loss: 1.6486 - accuracy: 0.5454 - val_loss: 1.6341 - val_accuracy: 0.5717\n",
      "Epoch 28/200\n",
      "781/781 [==============================] - 47s 60ms/step - loss: 1.6791 - accuracy: 0.5403 - val_loss: 1.7154 - val_accuracy: 0.5600\n",
      "Epoch 29/200\n",
      "781/781 [==============================] - 51s 65ms/step - loss: 1.6209 - accuracy: 0.5526 - val_loss: 1.7982 - val_accuracy: 0.5464\n",
      "Epoch 30/200\n",
      "781/781 [==============================] - 49s 63ms/step - loss: 1.5943 - accuracy: 0.5598 - val_loss: 1.4748 - val_accuracy: 0.6065\n",
      "Epoch 31/200\n",
      "781/781 [==============================] - 49s 63ms/step - loss: 1.5883 - accuracy: 0.5616 - val_loss: 1.6336 - val_accuracy: 0.5800\n",
      "Epoch 32/200\n",
      "781/781 [==============================] - 50s 64ms/step - loss: 1.5692 - accuracy: 0.5652 - val_loss: 1.6012 - val_accuracy: 0.5717\n",
      "Epoch 33/200\n",
      "781/781 [==============================] - 49s 63ms/step - loss: 1.5568 - accuracy: 0.5712 - val_loss: 1.5384 - val_accuracy: 0.5921\n",
      "Epoch 34/200\n",
      "781/781 [==============================] - 48s 62ms/step - loss: 1.5612 - accuracy: 0.5663 - val_loss: 1.4895 - val_accuracy: 0.5970\n",
      "Epoch 35/200\n",
      "781/781 [==============================] - 51s 65ms/step - loss: 1.5362 - accuracy: 0.5746 - val_loss: 1.5133 - val_accuracy: 0.5990\n",
      "Epoch 36/200\n",
      "781/781 [==============================] - 49s 63ms/step - loss: 1.5182 - accuracy: 0.5772 - val_loss: 1.3525 - val_accuracy: 0.6245\n",
      "Epoch 37/200\n",
      "781/781 [==============================] - 48s 62ms/step - loss: 1.5074 - accuracy: 0.5793 - val_loss: 1.5545 - val_accuracy: 0.5904\n",
      "Epoch 38/200\n",
      "781/781 [==============================] - 50s 64ms/step - loss: 1.5005 - accuracy: 0.5816 - val_loss: 1.4620 - val_accuracy: 0.6076\n",
      "Epoch 39/200\n",
      "781/781 [==============================] - 51s 65ms/step - loss: 1.4921 - accuracy: 0.5846 - val_loss: 1.4835 - val_accuracy: 0.6087\n",
      "Epoch 40/200\n",
      "781/781 [==============================] - 52s 66ms/step - loss: 1.4670 - accuracy: 0.5908 - val_loss: 1.3976 - val_accuracy: 0.6155\n",
      "Epoch 41/200\n",
      "781/781 [==============================] - 48s 62ms/step - loss: 1.4814 - accuracy: 0.5895 - val_loss: 1.3802 - val_accuracy: 0.6179\n",
      "Epoch 42/200\n",
      "781/781 [==============================] - 48s 62ms/step - loss: 1.4672 - accuracy: 0.5919 - val_loss: 1.4550 - val_accuracy: 0.6135\n",
      "Epoch 43/200\n",
      "781/781 [==============================] - 50s 64ms/step - loss: 1.4433 - accuracy: 0.5965 - val_loss: 1.3614 - val_accuracy: 0.6334\n",
      "Epoch 44/200\n",
      "781/781 [==============================] - 48s 61ms/step - loss: 1.4498 - accuracy: 0.5948 - val_loss: 1.4272 - val_accuracy: 0.6157\n",
      "Epoch 45/200\n",
      "781/781 [==============================] - 49s 62ms/step - loss: 1.4272 - accuracy: 0.6010 - val_loss: 1.3671 - val_accuracy: 0.6322\n",
      "Epoch 46/200\n",
      "781/781 [==============================] - 49s 63ms/step - loss: 1.4253 - accuracy: 0.6015 - val_loss: 1.3922 - val_accuracy: 0.6216\n"
     ]
    },
    {
     "data": {
      "image/png": "[encoded data removed]",
      "text/plain": [
       "<Figure size 640x480 with 1 Axes>"
      ]
     },
     "metadata": {},
     "output_type": "display_data"
    },
    {
     "data": {
      "image/png": "[encoded data removed]",
      "text/plain": [
       "<Figure size 640x480 with 1 Axes>"
      ]
     },
     "metadata": {},
     "output_type": "display_data"
    }
   ],
   "source": [
    "with strategy.scope():\n",
    "    epochs = 200\n",
    "    batch_size = 64\n",
    "    early_stopping = callbacks.EarlyStopping(monitor='val_loss', patience=10)\n",
    "    model = build_model()\n",
    "    # Adjust optimizer for mixed precision training\n",
    "    opt = optimizers.Adam(learning_rate=0.01)\n",
    "    #opt = tf.keras.mixed_precision.LossScaleOptimizer(opt)\n",
    "    \n",
    "    model.compile(optimizer=opt,\n",
    "                  loss='categorical_crossentropy',\n",
    "                  metrics=['accuracy'])\n",
    "\n",
    "    history = model.fit(\n",
    "        data_gen.flow(x_train, y_train, batch_size=batch_size),\n",
    "        steps_per_epoch=len(x_train) / batch_size,\n",
    "        epochs=epochs,\n",
    "        validation_data=(x_test, y_test),\n",
    "        callbacks=[early_stopping]\n",
    "    )\n",
    "\n",
    "# summarize history for accuracy\n",
    "plt.plot(history.history['accuracy'])\n",
    "plt.plot(history.history['val_accuracy'])\n",
    "plt.title('model accuracy')\n",
    "plt.ylabel('accuracy')\n",
    "plt.xlabel('epoch')\n",
    "plt.legend(['train', 'test'], loc='upper left')\n",
    "plt.show()\n",
    "\n",
    "# summarize history for loss\n",
    "plt.plot(history.history['loss'])\n",
    "plt.plot(history.history['val_loss'])\n",
    "plt.title('model loss')\n",
    "plt.ylabel('loss')\n",
    "plt.xlabel('epoch')\n",
    "plt.legend(['train', 'test'], loc='upper left')\n",
    "plt.show()"
   ]
  },
  {
   "cell_type": "markdown",
   "id": "80ca5724",
   "metadata": {
    "papermill": {
     "duration": 2.730612,
     "end_time": "2023-08-03T01:16:20.241661",
     "exception": false,
     "start_time": "2023-08-03T01:16:17.511049",
     "status": "completed"
    },
    "tags": []
   },
   "source": [
    "### Step 6: Evaluate the Model"
   ]
  },
  {
   "cell_type": "code",
   "execution_count": 8,
   "id": "7fa47665",
   "metadata": {
    "execution": {
     "iopub.execute_input": "2023-08-03T01:16:25.289693Z",
     "iopub.status.busy": "2023-08-03T01:16:25.289333Z",
     "iopub.status.idle": "2023-08-03T01:16:31.064961Z",
     "shell.execute_reply": "2023-08-03T01:16:31.063060Z"
    },
    "papermill": {
     "duration": 8.206237,
     "end_time": "2023-08-03T01:16:31.067819",
     "exception": false,
     "start_time": "2023-08-03T01:16:22.861582",
     "status": "completed"
    },
    "tags": []
   },
   "outputs": [
    {
     "name": "stdout",
     "output_type": "stream",
     "text": [
      "313/313 [==============================] - 3s 9ms/step - loss: 1.3922 - accuracy: 0.6216\n",
      "Test Accuracy: 62.16%\n"
     ]
    }
   ],
   "source": [
    "test_loss, test_accuracy = model.evaluate(x_test, y_test)\n",
    "print(f\"Test Accuracy: {test_accuracy * 100:.2f}%\")"
   ]
  },
  {
   "cell_type": "markdown",
   "id": "84f76fa6",
   "metadata": {
    "papermill": {
     "duration": 2.42122,
     "end_time": "2023-08-03T01:16:36.052189",
     "exception": false,
     "start_time": "2023-08-03T01:16:33.630969",
     "status": "completed"
    },
    "tags": []
   },
   "source": [
    "### Step 7: Fine-tuning"
   ]
  },
  {
   "cell_type": "code",
   "execution_count": null,
   "id": "f227c321",
   "metadata": {
    "papermill": {
     "duration": 2.401757,
     "end_time": "2023-08-03T01:16:41.049541",
     "exception": false,
     "start_time": "2023-08-03T01:16:38.647784",
     "status": "completed"
    },
    "tags": []
   },
   "outputs": [],
   "source": []
  },
  {
   "cell_type": "code",
   "execution_count": null,
   "id": "d0e3b734",
   "metadata": {
    "papermill": {
     "duration": 2.424082,
     "end_time": "2023-08-03T01:16:46.026159",
     "exception": false,
     "start_time": "2023-08-03T01:16:43.602077",
     "status": "completed"
    },
    "tags": []
   },
   "outputs": [],
   "source": []
  }
 ],
 "metadata": {
  "kernelspec": {
   "display_name": "Python 3",
   "language": "python",
   "name": "python3"
  },
  "language_info": {
   "codemirror_mode": {
    "name": "ipython",
    "version": 3
   },
   "file_extension": ".py",
   "mimetype": "text/x-python",
   "name": "python",
   "nbconvert_exporter": "python",
   "pygments_lexer": "ipython3",
   "version": "3.10.12"
  },
  "papermill": {
   "default_parameters": {},
   "duration": 2520.18022,
   "end_time": "2023-08-03T01:16:52.136319",
   "environment_variables": {},
   "exception": null,
   "input_path": "__notebook__.ipynb",
   "output_path": "__notebook__.ipynb",
   "parameters": {},
   "start_time": "2023-08-03T00:34:51.956099",
   "version": "2.4.0"
  }
 },
 "nbformat": 4,
 "nbformat_minor": 5
}
