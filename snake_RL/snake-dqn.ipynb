{
 "cells": [
  {
   "cell_type": "code",
   "execution_count": 1,
   "id": "b09f6eb3",
   "metadata": {
    "_cell_guid": "b1076dfc-b9ad-4769-8c92-a6c4dae69d19",
    "_kg_hide-output": true,
    "_uuid": "8f2839f25d086af736a60e9eeb907d3b93b6e0e5",
    "execution": {
     "iopub.execute_input": "2023-08-08T18:24:21.723517Z",
     "iopub.status.busy": "2023-08-08T18:24:21.723077Z",
     "iopub.status.idle": "2023-08-08T18:24:25.245414Z",
     "shell.execute_reply": "2023-08-08T18:24:25.244400Z"
    },
    "papermill": {
     "duration": 3.532769,
     "end_time": "2023-08-08T18:24:25.248262",
     "exception": false,
     "start_time": "2023-08-08T18:24:21.715493",
     "status": "completed"
    },
    "tags": []
   },
   "outputs": [],
   "source": [
    "\n",
    "import pandas as pd\n",
    "import numpy as np\n",
    "import random\n",
    "import matplotlib.pyplot as plt\n",
    "from enum import Enum\n",
    "import torch\n",
    "import torch.nn as nn\n",
    "import torch.optim as optim\n",
    "from collections import deque\n",
    "from itertools import product\n",
    "from copy import deepcopy\n",
    "import matplotlib.colors as mcolors\n",
    "\n"
   ]
  },
  {
   "cell_type": "code",
   "execution_count": 2,
   "id": "ae70be23",
   "metadata": {
    "execution": {
     "iopub.execute_input": "2023-08-08T18:24:25.261068Z",
     "iopub.status.busy": "2023-08-08T18:24:25.260454Z",
     "iopub.status.idle": "2023-08-08T18:24:25.268437Z",
     "shell.execute_reply": "2023-08-08T18:24:25.267217Z"
    },
    "papermill": {
     "duration": 0.016955,
     "end_time": "2023-08-08T18:24:25.270706",
     "exception": false,
     "start_time": "2023-08-08T18:24:25.253751",
     "status": "completed"
    },
    "tags": []
   },
   "outputs": [],
   "source": [
    "\n",
    "def plot_series(iterations_per_episode, scores_per_episode):\n",
    "    plt.figure(figsize=(12, 5))\n",
    "\n",
    "    plt.subplot(1, 2, 1)\n",
    "    plt.plot(iterations_per_episode)\n",
    "    plt.title(\"Iterations per Episode\")\n",
    "    plt.xlabel(\"Episode\")\n",
    "    plt.ylabel(\"Iterations\")\n",
    "\n",
    "    plt.subplot(1, 2, 2)\n",
    "    plt.plot(scores_per_episode)\n",
    "    plt.title(f\"Score per {PRINT_FREQUENCY} Episodes\")\n",
    "    plt.xlabel(f\"Episodes time {PRINT_FREQUENCY}\")\n",
    "    plt.ylabel(\"Score\")\n",
    "\n",
    "    plt.tight_layout()\n",
    "    plt.show()\n"
   ]
  },
  {
   "cell_type": "code",
   "execution_count": 3,
   "id": "a607aac2",
   "metadata": {
    "execution": {
     "iopub.execute_input": "2023-08-08T18:24:25.283199Z",
     "iopub.status.busy": "2023-08-08T18:24:25.282491Z",
     "iopub.status.idle": "2023-08-08T18:24:25.290497Z",
     "shell.execute_reply": "2023-08-08T18:24:25.289429Z"
    },
    "papermill": {
     "duration": 0.017258,
     "end_time": "2023-08-08T18:24:25.293091",
     "exception": false,
     "start_time": "2023-08-08T18:24:25.275833",
     "status": "completed"
    },
    "tags": []
   },
   "outputs": [],
   "source": [
    "def plot_game_board(grid):\n",
    "    \"\"\"\n",
    "    Visualizes the game board using matplotlib.\n",
    "\n",
    "    Args:\n",
    "    - grid (2D list): The game grid.\n",
    "    \"\"\"\n",
    "    \n",
    "    # Convert the grid to numpy array for easier indexing\n",
    "    grid = np.array(grid)\n",
    "\n",
    "    # Define a colormap: list of color names\n",
    "    cmap = mcolors.ListedColormap(['white', 'yellow', 'green', 'red', 'black'])  # The order has been adjusted based on the value assignments below.\n",
    "    \n",
    "    # Set the bounds for the colormap\n",
    "    bounds = [-0.5, 0.5, 1.5, 2.5, 3.5, 4.5]\n",
    "    norm = mcolors.BoundaryNorm(bounds, cmap.N)\n",
    "\n",
    "    # Plot\n",
    "    fig, ax = plt.subplots()\n",
    "    ax.imshow(grid, cmap=cmap, norm=norm)\n",
    "\n",
    "    # Hide the axis\n",
    "    ax.axis('off')\n",
    "    \n",
    "    plt.show()"
   ]
  },
  {
   "cell_type": "code",
   "execution_count": 4,
   "id": "dc196565",
   "metadata": {
    "execution": {
     "iopub.execute_input": "2023-08-08T18:24:25.305825Z",
     "iopub.status.busy": "2023-08-08T18:24:25.305438Z",
     "iopub.status.idle": "2023-08-08T18:24:25.315153Z",
     "shell.execute_reply": "2023-08-08T18:24:25.314120Z"
    },
    "papermill": {
     "duration": 0.018544,
     "end_time": "2023-08-08T18:24:25.317331",
     "exception": false,
     "start_time": "2023-08-08T18:24:25.298787",
     "status": "completed"
    },
    "tags": []
   },
   "outputs": [],
   "source": [
    "# Editable Globals\n",
    "PLAYABLE_GRID_SIZE = 10 # Playable grid without walls.  Minimum value = 5\n",
    "\n",
    "\n",
    "WALL_PENALTY = -10\n",
    "MOVEMENT_BONUS = 0\n",
    "APPLE_BONUS = 20\n",
    "WIN_BONUS = -0\n",
    "DIST_TO_APPLE_NUMERATOR = 10\n",
    "STARTING_SCORE = 10\n",
    "\n",
    "\n",
    "DECAY_RATE = (1 - 1e-6)\n",
    "LEARNING_RATE = 1e-1\n",
    "EPSILON = 9 * 1e-1\n",
    "PRINT_FREQUENCY = 2**12\n",
    "BUFFER_SIZE = 4096\n",
    "BATCH_SIZE = 8192\n",
    "GAMMA = 0.99\n",
    "EPISODES = 2**18\n",
    "SEED = 42\n",
    "\n",
    "# These globals are derived, don't edit unless refactoring\n",
    "TOTAL_GRID_SIZE = PLAYABLE_GRID_SIZE + 2             # Playable Area + Walls\n",
    "MAX_SNAKE_LENGTH = PLAYABLE_GRID_SIZE ** 2 - 1\n",
    "\n",
    "EMPTY_GRID_SET = set((i, j) for i, j in product(range(1, TOTAL_GRID_SIZE - 1), repeat=2))\n",
    "\n",
    "## initialize blank grid with empty squares (0) and walls (4)\n",
    "EMPTY_STATE_NESTED_LIST = [[0 for _ in range(TOTAL_GRID_SIZE)] for _ in range(TOTAL_GRID_SIZE)]\n",
    "for i in range(TOTAL_GRID_SIZE):\n",
    "    EMPTY_STATE_NESTED_LIST[0][i] = EMPTY_STATE_NESTED_LIST[i][0] = EMPTY_STATE_NESTED_LIST[TOTAL_GRID_SIZE -1][i] = EMPTY_STATE_NESTED_LIST[i][TOTAL_GRID_SIZE - 1] = 4\n",
    "\n"
   ]
  },
  {
   "cell_type": "code",
   "execution_count": 5,
   "id": "b7a5493b",
   "metadata": {
    "execution": {
     "iopub.execute_input": "2023-08-08T18:24:25.329820Z",
     "iopub.status.busy": "2023-08-08T18:24:25.329098Z",
     "iopub.status.idle": "2023-08-08T18:24:25.350658Z",
     "shell.execute_reply": "2023-08-08T18:24:25.349521Z"
    },
    "papermill": {
     "duration": 0.031045,
     "end_time": "2023-08-08T18:24:25.353562",
     "exception": false,
     "start_time": "2023-08-08T18:24:25.322517",
     "status": "completed"
    },
    "tags": []
   },
   "outputs": [],
   "source": [
    "\n",
    "\n",
    "class Direction(Enum):\n",
    "    UP =    [1, 0, 0, 0]\n",
    "    DOWN =  [0, 1, 0, 0]\n",
    "    LEFT =  [0, 0, 1, 0]\n",
    "    RIGHT = [0, 0, 0, 1]\n",
    "\n",
    "\n",
    "def set_seed(seed):\n",
    "    random.seed(seed)\n",
    "    np.random.seed(seed)\n",
    "    torch.manual_seed(seed)\n",
    "    if torch.cuda.is_available():\n",
    "        torch.cuda.manual_seed(seed)\n",
    "        torch.cuda.manual_seed_all(seed)\n",
    "    torch.backends.cudnn.deterministic = True\n",
    "    torch.backends.cudnn.benchmark = False\n",
    "\n",
    "def eat_apple(snake_queue):\n",
    "    \"\"\"\n",
    "    Generate a new apple location that's not within the snake's current position.\n",
    "\n",
    "    Args:\n",
    "    - snake_queue (list): List of tuples representing the snake's current positions.\n",
    "\n",
    "    Returns:\n",
    "    - tuple: New apple location.\n",
    "    \"\"\"\n",
    "    available_locations = EMPTY_GRID_SET - set(snake_queue)\n",
    "    new_apple_location = random.choice(list(available_locations))\n",
    "    return new_apple_location\n",
    "\n",
    "def initialize_game(starting_head_location, starting_apple_location):\n",
    "    \"\"\"\n",
    "    Initialize the snake's starting position and the first apple's position.\n",
    "\n",
    "    Returns:\n",
    "    - snake_queue (list): List of tuples representing the snake's initial position.\n",
    "    - apple_location (tuple): Initial apple location.\n",
    "    \"\"\"\n",
    "    # Initialize the snake queue with the head location\n",
    "    snake_queue = [starting_head_location]\n",
    "    apple_location = starting_apple_location\n",
    "    score = STARTING_SCORE\n",
    "    distance_to_apple = ((starting_head_location[0]-starting_apple_location[0])**2 + (starting_head_location[1]-starting_apple_location[1])**2)**0.5\n",
    "    distance_traveled_to_apple = 0\n",
    "    game_over = False\n",
    "    return game_over, snake_queue, apple_location, distance_traveled_to_apple, distance_to_apple, score\n",
    "\n",
    "def update_state(snake_queue, apple_location, distance_traveled_to_apple, direction, score):\n",
    "    \"\"\"\n",
    "    Update the snake's position based on the given direction.\n",
    "    \"\"\"\n",
    "    \n",
    "    def move_snake(snake_queue, direction):\n",
    "        head_location = snake_queue[-1]\n",
    "        # Update head_location based on the direction\n",
    "        if direction == Direction.UP: # Up\n",
    "            head_location = (head_location[0]-1, head_location[1])\n",
    "        elif direction == Direction.DOWN: # Down\n",
    "            head_location = (head_location[0]+1, head_location[1])\n",
    "        elif direction == Direction.LEFT: # Left\n",
    "            head_location = (head_location[0], head_location[1]-1)\n",
    "        else: # Right\n",
    "            head_location = (head_location[0], head_location[1]+1)\n",
    "        return head_location\n",
    "\n",
    "    def score_and_process_move(head_location, snake_queue, apple_location, distance_traveled_to_apple, score):\n",
    "        # Check if snake ate itself or a wall\n",
    "        distance_traveled_to_apple += 1\n",
    "        distance_to_apple = ((head_location[0]-apple_location[0])**2 + (head_location[1]-apple_location[1])**2)**0.5\n",
    "\n",
    "        if (head_location in snake_queue) or (head_location[0] in [0, TOTAL_GRID_SIZE - 1] or head_location[1] in [0, TOTAL_GRID_SIZE - 1]):\n",
    "            score += WALL_PENALTY\n",
    "            return True, snake_queue, apple_location, distance_traveled_to_apple, score\n",
    "        # Check if snake ate apple\n",
    "        elif head_location == apple_location:\n",
    "            score += APPLE_BONUS \n",
    "            apple_location = eat_apple(snake_queue)\n",
    "            snake_queue.append(head_location)\n",
    "            distance_traveled_to_apple = 0\n",
    "        # Snake just moves\n",
    "        else:\n",
    "            score += MOVEMENT_BONUS\n",
    "            score += DIST_TO_APPLE_NUMERATOR // distance_to_apple\n",
    "            snake_queue.append(head_location)\n",
    "            snake_queue.pop(0)\n",
    "        if len(snake_queue) == MAX_SNAKE_LENGTH:\n",
    "            score += WIN_BONUS\n",
    "            return True, snake_queue, apple_location, distance_traveled_to_apple, score\n",
    "        return False, snake_queue, apple_location, distance_traveled_to_apple, score\n",
    "\n",
    "    return score_and_process_move(move_snake(snake_queue, direction), snake_queue, apple_location, distance_traveled_to_apple, score)\n"
   ]
  },
  {
   "cell_type": "code",
   "execution_count": 6,
   "id": "628740f8",
   "metadata": {
    "execution": {
     "iopub.execute_input": "2023-08-08T18:24:25.368235Z",
     "iopub.status.busy": "2023-08-08T18:24:25.367000Z",
     "iopub.status.idle": "2023-08-08T18:24:25.374991Z",
     "shell.execute_reply": "2023-08-08T18:24:25.373900Z"
    },
    "papermill": {
     "duration": 0.018842,
     "end_time": "2023-08-08T18:24:25.377602",
     "exception": false,
     "start_time": "2023-08-08T18:24:25.358760",
     "status": "completed"
    },
    "tags": []
   },
   "outputs": [],
   "source": [
    "class DQN(nn.Module):\n",
    "    def __init__(self, input_dim, output_dim):\n",
    "        super(DQN, self).__init__()\n",
    "        self.fc = nn.Sequential(\n",
    "            nn.Linear(input_dim, 128),\n",
    "            nn.ReLU(),\n",
    "            nn.Linear(128, 256),\n",
    "            nn.ReLU(),\n",
    "            nn.Linear(256, output_dim)\n",
    "        )\n",
    "    \n",
    "    def forward(self, x):\n",
    "        return self.fc(x)"
   ]
  },
  {
   "cell_type": "code",
   "execution_count": 7,
   "id": "ca966a4b",
   "metadata": {
    "execution": {
     "iopub.execute_input": "2023-08-08T18:24:25.389721Z",
     "iopub.status.busy": "2023-08-08T18:24:25.389332Z",
     "iopub.status.idle": "2023-08-08T18:24:25.397280Z",
     "shell.execute_reply": "2023-08-08T18:24:25.396050Z"
    },
    "papermill": {
     "duration": 0.016712,
     "end_time": "2023-08-08T18:24:25.399615",
     "exception": false,
     "start_time": "2023-08-08T18:24:25.382903",
     "status": "completed"
    },
    "tags": []
   },
   "outputs": [],
   "source": [
    "class ReplayBuffer:\n",
    "    def __init__(self, capacity):\n",
    "        self.buffer = deque(maxlen=capacity)\n",
    "    \n",
    "    def push(self, state, action, reward, next_state, done):\n",
    "        experience = (state, action, reward, next_state, done)\n",
    "        self.buffer.append(experience)\n",
    "    \n",
    "    def sample(self, batch_size):\n",
    "        state_batch, action_batch, reward_batch, next_state_batch, done_batch = zip(\n",
    "            *random.sample(self.buffer, batch_size))\n",
    "        return state_batch, action_batch, reward_batch, next_state_batch, done_batch\n",
    "    \n",
    "    def __len__(self):\n",
    "        return len(self.buffer)"
   ]
  },
  {
   "cell_type": "code",
   "execution_count": 8,
   "id": "11b6e879",
   "metadata": {
    "execution": {
     "iopub.execute_input": "2023-08-08T18:24:25.411590Z",
     "iopub.status.busy": "2023-08-08T18:24:25.411230Z",
     "iopub.status.idle": "2023-08-08T18:24:25.428551Z",
     "shell.execute_reply": "2023-08-08T18:24:25.427437Z"
    },
    "papermill": {
     "duration": 0.026073,
     "end_time": "2023-08-08T18:24:25.430850",
     "exception": false,
     "start_time": "2023-08-08T18:24:25.404777",
     "status": "completed"
    },
    "tags": []
   },
   "outputs": [],
   "source": [
    "class DQNAgent:\n",
    "    def __init__(self, input_dim, output_dim, gamma=GAMMA, learning_rate=LEARNING_RATE, buffer_size=BUFFER_SIZE, batch_size=BATCH_SIZE):\n",
    "        self.dqn = DQN(input_dim, output_dim).to(device)\n",
    "        self.target = DQN(input_dim, output_dim).to(device)\n",
    "        self.target.load_state_dict(self.dqn.state_dict())\n",
    "        self.target.eval() # Set the target network to evaluation mode\n",
    "        \n",
    "        self.optimizer = optim.Adam(self.dqn.parameters(), lr=learning_rate)\n",
    "        self.loss_fn = nn.MSELoss()\n",
    "        self.buffer = ReplayBuffer(buffer_size)\n",
    "        self.batch_size = batch_size\n",
    "        self.gamma = gamma\n",
    "        self.epsilon = EPSILON\n",
    "    \n",
    "    def update(self):\n",
    "        if len(self.buffer) < self.batch_size:\n",
    "            return\n",
    "        state, action, reward, next_state, done = self.buffer.sample(self.batch_size)\n",
    "        \n",
    "        # Convert to tensors\n",
    "        state = torch.FloatTensor(state).to(device)\n",
    "        action = torch.LongTensor(action).to(device)\n",
    "        reward = torch.FloatTensor(reward).to(device)\n",
    "        next_state = torch.FloatTensor(next_state).to(device)\n",
    "        done = torch.FloatTensor(done).to(device)\n",
    "        \n",
    "        # Compute Q-values\n",
    "        curr_Q = self.dqn(state).gather(1, action.unsqueeze(1))\n",
    "        curr_Q = curr_Q.squeeze(1)\n",
    "        next_Q = self.target(next_state).max(1)[0]\n",
    "        expected_Q = reward + (1 - done) * self.gamma * next_Q\n",
    "        \n",
    "        # Compute loss and update the network\n",
    "        loss = self.loss_fn(curr_Q, expected_Q.detach())\n",
    "        self.optimizer.zero_grad()\n",
    "        loss.backward()\n",
    "        self.optimizer.step()\n",
    "        \n",
    "    def get_action(self, state):\n",
    "        state = torch.FloatTensor(state).unsqueeze(0).to(device)\n",
    "        with torch.no_grad():\n",
    "            if random.random() > self.epsilon:\n",
    "                action_index = int(self.dqn(state).max(1)[1])\n",
    "            else:\n",
    "                action_index = random.randint(0, 3) # Number of actions - 1\n",
    "\n",
    "        # Map action_index to Direction enum\n",
    "        \n",
    "        return action_index\n",
    "\n",
    "                \n",
    "    def decay_epsilon(self):\n",
    "        self.epsilon *= DECAY_RATE\n",
    "        self.epsilon = max(self.epsilon, 0.01)\n",
    "\n",
    "        # Decay the learning rate\n",
    "        #self.optimizer.param_groups[0]['lr'] *= DECAY_RATE\n",
    "\n",
    "    def get_epsilon(self):\n",
    "        return self.epsilon\n",
    "    def get_lr(self):\n",
    "        return self.optimizer.param_groups[0]['lr']        \n",
    "    def sync_target(self):\n",
    "        self.target.load_state_dict(self.dqn.state_dict())"
   ]
  },
  {
   "cell_type": "code",
   "execution_count": 9,
   "id": "42d40035",
   "metadata": {
    "execution": {
     "iopub.execute_input": "2023-08-08T18:24:25.442978Z",
     "iopub.status.busy": "2023-08-08T18:24:25.442618Z",
     "iopub.status.idle": "2023-08-08T18:24:25.455979Z",
     "shell.execute_reply": "2023-08-08T18:24:25.454850Z"
    },
    "papermill": {
     "duration": 0.022259,
     "end_time": "2023-08-08T18:24:25.458311",
     "exception": false,
     "start_time": "2023-08-08T18:24:25.436052",
     "status": "completed"
    },
    "tags": []
   },
   "outputs": [],
   "source": [
    "def encode_state(snake_queue, apple_location, distance_traveled_to_apple, score):\n",
    "    \n",
    "    grid = [row[:] for row in EMPTY_STATE_NESTED_LIST]\n",
    "    head = snake_queue[-1]\n",
    "    grid[head[0]][head[1]] = 1\n",
    "    for segment in snake_queue:\n",
    "        grid[segment[0]][segment[1]] = 2\n",
    "\n",
    "    grid[apple_location[0]][apple_location[1]] = 3\n",
    "\n",
    "\n",
    "\n",
    "    # Distance to nearest obstacle\n",
    "    distances_to_obstacle = {\n",
    "        \"left\": head[1],\n",
    "        \"right\": TOTAL_GRID_SIZE - 1 - head[1],\n",
    "        \"up\": head[0],\n",
    "        \"down\": TOTAL_GRID_SIZE - 1 - head[0]\n",
    "    }\n",
    "    \n",
    "    for segment in snake_queue:\n",
    "        if segment[0] == head[0]:  # Same row as head\n",
    "            if 0 < segment[1] - head[1] < distances_to_obstacle[\"right\"]:  # Segment is to the right of head\n",
    "                distances_to_obstacle[\"right\"] = segment[1] - head[1] - 1\n",
    "            elif 0 < head[1] - segment[1] < distances_to_obstacle[\"left\"]:  # Segment is to the left of head\n",
    "                distances_to_obstacle[\"left\"] = head[1] - segment[1] - 1\n",
    "                \n",
    "        if segment[1] == head[1]:  # Same column as head\n",
    "            if 0 < segment[0] - head[0] < distances_to_obstacle[\"down\"]:  # Segment is below head\n",
    "                distances_to_obstacle[\"down\"] = segment[0] - head[0] - 1\n",
    "            elif 0 < head[0] - segment[0] < distances_to_obstacle[\"up\"]:  # Segment is above head\n",
    "                distances_to_obstacle[\"up\"] = head[0] - segment[0] - 1\n",
    "\n",
    "    # Distance to apple (vertical and horizontal)\n",
    "    apple_dist = {\n",
    "        \"horizontal\": apple_location[1] - head[1],\n",
    "        \"vertical\": apple_location[0] - head[0]\n",
    "    }\n",
    "    \n",
    "    flat_grid = [cell for row in grid for cell in row]\n",
    "    \n",
    "    state = flat_grid + [distances_to_obstacle[dir] for dir in [\"left\", \"right\", \"up\", \"down\"]] + [apple_dist[\"horizontal\"], apple_dist[\"vertical\"]]\n",
    "    \n",
    "    return state\n"
   ]
  },
  {
   "cell_type": "code",
   "execution_count": 10,
   "id": "4f6da280",
   "metadata": {
    "execution": {
     "iopub.execute_input": "2023-08-08T18:24:25.470350Z",
     "iopub.status.busy": "2023-08-08T18:24:25.469941Z",
     "iopub.status.idle": "2023-08-08T18:33:30.754315Z",
     "shell.execute_reply": "2023-08-08T18:33:30.752462Z"
    },
    "papermill": {
     "duration": 545.296529,
     "end_time": "2023-08-08T18:33:30.760038",
     "exception": false,
     "start_time": "2023-08-08T18:24:25.463509",
     "status": "completed"
    },
    "tags": []
   },
   "outputs": [
    {
     "name": "stdout",
     "output_type": "stream",
     "text": [
      "Number of GPUs: 0\n",
      "Device: cpu\n",
      "Episode: 4095 \n",
      "        Avg Iterations (last 4096 episodes): 16.05 \n",
      "        Avg Score (last 4096): 34.2068 \n",
      "        SnakeLength: 1.098388671875 \n",
      "        Eplsilon: 0.8963220339360848 \n",
      "        Learning Rate: 0.1\n",
      "        \n"
     ]
    },
    {
     "data": {
      "image/png": "[encoded data removed]",
      "text/plain": [
       "<Figure size 640x480 with 1 Axes>"
      ]
     },
     "metadata": {},
     "output_type": "display_data"
    },
    {
     "name": "stdout",
     "output_type": "stream",
     "text": [
      "Episode: 8191 \n",
      "        Avg Iterations (last 4096 episodes): 16.65 \n",
      "        Avg Score (last 4096): 35.7051 \n",
      "        SnakeLength: 1.1005859375 \n",
      "        Eplsilon: 0.8926582056957006 \n",
      "        Learning Rate: 0.1\n",
      "        \n"
     ]
    },
    {
     "data": {
      "image/png": "[encoded data removed]",
      "text/plain": [
       "<Figure size 640x480 with 1 Axes>"
      ]
     },
     "metadata": {},
     "output_type": "display_data"
    },
    {
     "name": "stdout",
     "output_type": "stream",
     "text": [
      "Episode: 12287 \n",
      "        Avg Iterations (last 4096 episodes): 16.33 \n",
      "        Avg Score (last 4096): 34.1860 \n",
      "        SnakeLength: 1.096923828125 \n",
      "        Eplsilon: 0.8890093538107648 \n",
      "        Learning Rate: 0.1\n",
      "        \n"
     ]
    },
    {
     "data": {
      "image/png": "[encoded data removed]",
      "text/plain": [
       "<Figure size 640x480 with 1 Axes>"
      ]
     },
     "metadata": {},
     "output_type": "display_data"
    },
    {
     "name": "stdout",
     "output_type": "stream",
     "text": [
      "Episode: 16383 \n",
      "        Avg Iterations (last 4096 episodes): 16.44 \n",
      "        Avg Score (last 4096): 34.3936 \n",
      "        SnakeLength: 1.09130859375 \n",
      "        Eplsilon: 0.8853754170635548 \n",
      "        Learning Rate: 0.1\n",
      "        \n"
     ]
    },
    {
     "data": {
      "image/png": "[encoded data removed]",
      "text/plain": [
       "<Figure size 640x480 with 1 Axes>"
      ]
     },
     "metadata": {},
     "output_type": "display_data"
    },
    {
     "name": "stdout",
     "output_type": "stream",
     "text": [
      "Episode: 20479 \n",
      "        Avg Iterations (last 4096 episodes): 16.17 \n",
      "        Avg Score (last 4096): 33.7722 \n",
      "        SnakeLength: 1.089599609375 \n",
      "        Eplsilon: 0.8817563344865778 \n",
      "        Learning Rate: 0.1\n",
      "        \n"
     ]
    },
    {
     "data": {
      "image/png": "[encoded data removed]",
      "text/plain": [
       "<Figure size 640x480 with 1 Axes>"
      ]
     },
     "metadata": {},
     "output_type": "display_data"
    },
    {
     "name": "stdout",
     "output_type": "stream",
     "text": [
      "Episode: 24575 \n",
      "        Avg Iterations (last 4096 episodes): 16.01 \n",
      "        Avg Score (last 4096): 34.8091 \n",
      "        SnakeLength: 1.104736328125 \n",
      "        Eplsilon: 0.8781520453615635 \n",
      "        Learning Rate: 0.1\n",
      "        \n"
     ]
    },
    {
     "data": {
      "image/png": "[encoded data removed]",
      "text/plain": [
       "<Figure size 640x480 with 1 Axes>"
      ]
     },
     "metadata": {},
     "output_type": "display_data"
    },
    {
     "name": "stdout",
     "output_type": "stream",
     "text": [
      "Episode: 28671 \n",
      "        Avg Iterations (last 4096 episodes): 15.76 \n",
      "        Avg Score (last 4096): 33.4365 \n",
      "        SnakeLength: 1.1025390625 \n",
      "        Eplsilon: 0.8745624892184263 \n",
      "        Learning Rate: 0.1\n",
      "        \n"
     ]
    },
    {
     "data": {
      "image/png": "[encoded data removed]",
      "text/plain": [
       "<Figure size 640x480 with 1 Axes>"
      ]
     },
     "metadata": {},
     "output_type": "display_data"
    },
    {
     "name": "stdout",
     "output_type": "stream",
     "text": [
      "Episode: 32767 \n",
      "        Avg Iterations (last 4096 episodes): 15.61 \n",
      "        Avg Score (last 4096): 33.2593 \n",
      "        SnakeLength: 1.098388671875 \n",
      "        Eplsilon: 0.870987605834262 \n",
      "        Learning Rate: 0.1\n",
      "        \n"
     ]
    },
    {
     "data": {
      "image/png": "[encoded data removed]",
      "text/plain": [
       "<Figure size 640x480 with 1 Axes>"
      ]
     },
     "metadata": {},
     "output_type": "display_data"
    },
    {
     "name": "stdout",
     "output_type": "stream",
     "text": [
      "Episode: 36863 \n",
      "        Avg Iterations (last 4096 episodes): 15.63 \n",
      "        Avg Score (last 4096): 32.5215 \n",
      "        SnakeLength: 1.09765625 \n",
      "        Eplsilon: 0.8674273352323396 \n",
      "        Learning Rate: 0.1\n",
      "        \n"
     ]
    },
    {
     "data": {
      "image/png": "[encoded data removed]",
      "text/plain": [
       "<Figure size 640x480 with 1 Axes>"
      ]
     },
     "metadata": {},
     "output_type": "display_data"
    },
    {
     "name": "stdout",
     "output_type": "stream",
     "text": [
      "Episode: 40959 \n",
      "        Avg Iterations (last 4096 episodes): 15.95 \n",
      "        Avg Score (last 4096): 33.1238 \n",
      "        SnakeLength: 1.0888671875 \n",
      "        Eplsilon: 0.8638816176810846 \n",
      "        Learning Rate: 0.1\n",
      "        \n"
     ]
    },
    {
     "data": {
      "image/png": "[encoded data removed]",
      "text/plain": [
       "<Figure size 640x480 with 1 Axes>"
      ]
     },
     "metadata": {},
     "output_type": "display_data"
    },
    {
     "name": "stdout",
     "output_type": "stream",
     "text": [
      "Episode: 45055 \n",
      "        Avg Iterations (last 4096 episodes): 14.96 \n",
      "        Avg Score (last 4096): 30.9814 \n",
      "        SnakeLength: 1.088134765625 \n",
      "        Eplsilon: 0.8603503936930882 \n",
      "        Learning Rate: 0.1\n",
      "        \n"
     ]
    },
    {
     "data": {
      "image/png": "[encoded data removed]",
      "text/plain": [
       "<Figure size 640x480 with 1 Axes>"
      ]
     },
     "metadata": {},
     "output_type": "display_data"
    },
    {
     "name": "stdout",
     "output_type": "stream",
     "text": [
      "Episode: 49151 \n",
      "        Avg Iterations (last 4096 episodes): 16.04 \n",
      "        Avg Score (last 4096): 32.8667 \n",
      "        SnakeLength: 1.089111328125 \n",
      "        Eplsilon: 0.8568336040240981 \n",
      "        Learning Rate: 0.1\n",
      "        \n"
     ]
    },
    {
     "data": {
      "image/png": "[encoded data removed]",
      "text/plain": [
       "<Figure size 640x480 with 1 Axes>"
      ]
     },
     "metadata": {},
     "output_type": "display_data"
    },
    {
     "name": "stdout",
     "output_type": "stream",
     "text": [
      "Episode: 53247 \n",
      "        Avg Iterations (last 4096 episodes): 15.60 \n",
      "        Avg Score (last 4096): 32.7727 \n",
      "        SnakeLength: 1.087646484375 \n",
      "        Eplsilon: 0.853331189672033 \n",
      "        Learning Rate: 0.1\n",
      "        \n"
     ]
    },
    {
     "data": {
      "image/png": "[encoded data removed]",
      "text/plain": [
       "<Figure size 640x480 with 1 Axes>"
      ]
     },
     "metadata": {},
     "output_type": "display_data"
    },
    {
     "name": "stdout",
     "output_type": "stream",
     "text": [
      "Episode: 57343 \n",
      "        Avg Iterations (last 4096 episodes): 15.41 \n",
      "        Avg Score (last 4096): 31.8091 \n",
      "        SnakeLength: 1.090576171875 \n",
      "        Eplsilon: 0.8498430918759871 \n",
      "        Learning Rate: 0.1\n",
      "        \n"
     ]
    },
    {
     "data": {
      "image/png": "[encoded data removed]",
      "text/plain": [
       "<Figure size 640x480 with 1 Axes>"
      ]
     },
     "metadata": {},
     "output_type": "display_data"
    },
    {
     "name": "stdout",
     "output_type": "stream",
     "text": [
      "Episode: 61439 \n",
      "        Avg Iterations (last 4096 episodes): 15.37 \n",
      "        Avg Score (last 4096): 32.2190 \n",
      "        SnakeLength: 1.08935546875 \n",
      "        Eplsilon: 0.8463692521152568 \n",
      "        Learning Rate: 0.1\n",
      "        \n"
     ]
    },
    {
     "data": {
      "image/png": "[encoded data removed]",
      "text/plain": [
       "<Figure size 640x480 with 1 Axes>"
      ]
     },
     "metadata": {},
     "output_type": "display_data"
    },
    {
     "name": "stdout",
     "output_type": "stream",
     "text": [
      "Episode: 65535 \n",
      "        Avg Iterations (last 4096 episodes): 15.55 \n",
      "        Avg Score (last 4096): 32.9885 \n",
      "        SnakeLength: 1.096923828125 \n",
      "        Eplsilon: 0.8429096121083343 \n",
      "        Learning Rate: 0.1\n",
      "        \n"
     ]
    },
    {
     "data": {
      "image/png": "[encoded data removed]",
      "text/plain": [
       "<Figure size 640x480 with 1 Axes>"
      ]
     },
     "metadata": {},
     "output_type": "display_data"
    },
    {
     "name": "stdout",
     "output_type": "stream",
     "text": [
      "Episode: 69631 \n",
      "        Avg Iterations (last 4096 episodes): 15.39 \n",
      "        Avg Score (last 4096): 31.7107 \n",
      "        SnakeLength: 1.08642578125 \n",
      "        Eplsilon: 0.8394641138119574 \n",
      "        Learning Rate: 0.1\n",
      "        \n"
     ]
    },
    {
     "data": {
      "image/png": "[encoded data removed]",
      "text/plain": [
       "<Figure size 640x480 with 1 Axes>"
      ]
     },
     "metadata": {},
     "output_type": "display_data"
    },
    {
     "name": "stdout",
     "output_type": "stream",
     "text": [
      "Episode: 73727 \n",
      "        Avg Iterations (last 4096 episodes): 14.96 \n",
      "        Avg Score (last 4096): 31.1428 \n",
      "        SnakeLength: 1.083251953125 \n",
      "        Eplsilon: 0.8360326994201186 \n",
      "        Learning Rate: 0.1\n",
      "        \n"
     ]
    },
    {
     "data": {
      "image/png": "[encoded data removed]",
      "text/plain": [
       "<Figure size 640x480 with 1 Axes>"
      ]
     },
     "metadata": {},
     "output_type": "display_data"
    },
    {
     "name": "stdout",
     "output_type": "stream",
     "text": [
      "Episode: 77823 \n",
      "        Avg Iterations (last 4096 episodes): 15.21 \n",
      "        Avg Score (last 4096): 32.2004 \n",
      "        SnakeLength: 1.0908203125 \n",
      "        Eplsilon: 0.8326153113630999 \n",
      "        Learning Rate: 0.1\n",
      "        \n"
     ]
    },
    {
     "data": {
      "image/png": "[encoded data removed]",
      "text/plain": [
       "<Figure size 640x480 with 1 Axes>"
      ]
     },
     "metadata": {},
     "output_type": "display_data"
    },
    {
     "name": "stdout",
     "output_type": "stream",
     "text": [
      "Episode: 81919 \n",
      "        Avg Iterations (last 4096 episodes): 14.50 \n",
      "        Avg Score (last 4096): 30.3428 \n",
      "        SnakeLength: 1.095458984375 \n",
      "        Eplsilon: 0.8292118923065027 \n",
      "        Learning Rate: 0.1\n",
      "        \n"
     ]
    },
    {
     "data": {
      "image/png": "[encoded data removed]",
      "text/plain": [
       "<Figure size 640x480 with 1 Axes>"
      ]
     },
     "metadata": {},
     "output_type": "display_data"
    },
    {
     "name": "stdout",
     "output_type": "stream",
     "text": [
      "Episode: 86015 \n",
      "        Avg Iterations (last 4096 episodes): 14.84 \n",
      "        Avg Score (last 4096): 31.7329 \n",
      "        SnakeLength: 1.093994140625 \n",
      "        Eplsilon: 0.8258223851502953 \n",
      "        Learning Rate: 0.1\n",
      "        \n"
     ]
    },
    {
     "data": {
      "image/png": "[encoded data removed]",
      "text/plain": [
       "<Figure size 640x480 with 1 Axes>"
      ]
     },
     "metadata": {},
     "output_type": "display_data"
    },
    {
     "name": "stdout",
     "output_type": "stream",
     "text": [
      "Episode: 90111 \n",
      "        Avg Iterations (last 4096 episodes): 14.86 \n",
      "        Avg Score (last 4096): 30.5518 \n",
      "        SnakeLength: 1.08251953125 \n",
      "        Eplsilon: 0.8224467330278428 \n",
      "        Learning Rate: 0.1\n",
      "        \n"
     ]
    },
    {
     "data": {
      "image/png": "[encoded data removed]",
      "text/plain": [
       "<Figure size 640x480 with 1 Axes>"
      ]
     },
     "metadata": {},
     "output_type": "display_data"
    },
    {
     "name": "stdout",
     "output_type": "stream",
     "text": [
      "Episode: 94207 \n",
      "        Avg Iterations (last 4096 episodes): 14.95 \n",
      "        Avg Score (last 4096): 31.5483 \n",
      "        SnakeLength: 1.0927734375 \n",
      "        Eplsilon: 0.8190848793049749 \n",
      "        Learning Rate: 0.1\n",
      "        \n"
     ]
    },
    {
     "data": {
      "image/png": "[encoded data removed]",
      "text/plain": [
       "<Figure size 640x480 with 1 Axes>"
      ]
     },
     "metadata": {},
     "output_type": "display_data"
    },
    {
     "name": "stdout",
     "output_type": "stream",
     "text": [
      "Episode: 98303 \n",
      "        Avg Iterations (last 4096 episodes): 14.15 \n",
      "        Avg Score (last 4096): 29.5994 \n",
      "        SnakeLength: 1.079833984375 \n",
      "        Eplsilon: 0.8157367675790016 \n",
      "        Learning Rate: 0.1\n",
      "        \n"
     ]
    },
    {
     "data": {
      "image/png": "[encoded data removed]",
      "text/plain": [
       "<Figure size 640x480 with 1 Axes>"
      ]
     },
     "metadata": {},
     "output_type": "display_data"
    },
    {
     "name": "stdout",
     "output_type": "stream",
     "text": [
      "Episode: 102399 \n",
      "        Avg Iterations (last 4096 episodes): 14.33 \n",
      "        Avg Score (last 4096): 29.6672 \n",
      "        SnakeLength: 1.083740234375 \n",
      "        Eplsilon: 0.8124023416777981 \n",
      "        Learning Rate: 0.1\n",
      "        \n"
     ]
    },
    {
     "data": {
      "image/png": "[encoded data removed]",
      "text/plain": [
       "<Figure size 640x480 with 1 Axes>"
      ]
     },
     "metadata": {},
     "output_type": "display_data"
    },
    {
     "name": "stdout",
     "output_type": "stream",
     "text": [
      "Episode: 106495 \n",
      "        Avg Iterations (last 4096 episodes): 14.33 \n",
      "        Avg Score (last 4096): 29.5486 \n",
      "        SnakeLength: 1.07470703125 \n",
      "        Eplsilon: 0.8090815456588489 \n",
      "        Learning Rate: 0.1\n",
      "        \n"
     ]
    },
    {
     "data": {
      "image/png": "[encoded data removed]",
      "text/plain": [
       "<Figure size 640x480 with 1 Axes>"
      ]
     },
     "metadata": {},
     "output_type": "display_data"
    },
    {
     "name": "stdout",
     "output_type": "stream",
     "text": [
      "Episode: 110591 \n",
      "        Avg Iterations (last 4096 episodes): 14.64 \n",
      "        Avg Score (last 4096): 30.6179 \n",
      "        SnakeLength: 1.083740234375 \n",
      "        Eplsilon: 0.8057743238083013 \n",
      "        Learning Rate: 0.1\n",
      "        \n"
     ]
    },
    {
     "data": {
      "image/png": "[encoded data removed]",
      "text/plain": [
       "<Figure size 640x480 with 1 Axes>"
      ]
     },
     "metadata": {},
     "output_type": "display_data"
    },
    {
     "name": "stdout",
     "output_type": "stream",
     "text": [
      "Episode: 114687 \n",
      "        Avg Iterations (last 4096 episodes): 13.91 \n",
      "        Avg Score (last 4096): 28.7380 \n",
      "        SnakeLength: 1.08837890625 \n",
      "        Eplsilon: 0.8024806206400582 \n",
      "        Learning Rate: 0.1\n",
      "        \n"
     ]
    },
    {
     "data": {
      "image/png": "[encoded data removed]",
      "text/plain": [
       "<Figure size 640x480 with 1 Axes>"
      ]
     },
     "metadata": {},
     "output_type": "display_data"
    },
    {
     "name": "stdout",
     "output_type": "stream",
     "text": [
      "Episode: 118783 \n",
      "        Avg Iterations (last 4096 episodes): 14.20 \n",
      "        Avg Score (last 4096): 30.2112 \n",
      "        SnakeLength: 1.096435546875 \n",
      "        Eplsilon: 0.7992003808948088 \n",
      "        Learning Rate: 0.1\n",
      "        \n"
     ]
    },
    {
     "data": {
      "image/png": "[encoded data removed]",
      "text/plain": [
       "<Figure size 640x480 with 1 Axes>"
      ]
     },
     "metadata": {},
     "output_type": "display_data"
    },
    {
     "name": "stdout",
     "output_type": "stream",
     "text": [
      "Episode: 122879 \n",
      "        Avg Iterations (last 4096 episodes): 13.75 \n",
      "        Avg Score (last 4096): 28.4126 \n",
      "        SnakeLength: 1.08642578125 \n",
      "        Eplsilon: 0.7959335495391311 \n",
      "        Learning Rate: 0.1\n",
      "        \n"
     ]
    },
    {
     "data": {
      "image/png": "[encoded data removed]",
      "text/plain": [
       "<Figure size 640x480 with 1 Axes>"
      ]
     },
     "metadata": {},
     "output_type": "display_data"
    },
    {
     "name": "stdout",
     "output_type": "stream",
     "text": [
      "Episode: 126975 \n",
      "        Avg Iterations (last 4096 episodes): 13.91 \n",
      "        Avg Score (last 4096): 28.8713 \n",
      "        SnakeLength: 1.087158203125 \n",
      "        Eplsilon: 0.7926800717645609 \n",
      "        Learning Rate: 0.1\n",
      "        \n"
     ]
    },
    {
     "data": {
      "image/png": "[encoded data removed]",
      "text/plain": [
       "<Figure size 640x480 with 1 Axes>"
      ]
     },
     "metadata": {},
     "output_type": "display_data"
    },
    {
     "name": "stdout",
     "output_type": "stream",
     "text": [
      "Episode: 131071 \n",
      "        Avg Iterations (last 4096 episodes): 14.17 \n",
      "        Avg Score (last 4096): 29.9204 \n",
      "        SnakeLength: 1.086669921875 \n",
      "        Eplsilon: 0.7894398929866692 \n",
      "        Learning Rate: 0.1\n",
      "        \n"
     ]
    },
    {
     "data": {
      "image/png": "[encoded data removed]",
      "text/plain": [
       "<Figure size 640x480 with 1 Axes>"
      ]
     },
     "metadata": {},
     "output_type": "display_data"
    },
    {
     "name": "stdout",
     "output_type": "stream",
     "text": [
      "Episode: 135167 \n",
      "        Avg Iterations (last 4096 episodes): 13.92 \n",
      "        Avg Score (last 4096): 28.6726 \n",
      "        SnakeLength: 1.087890625 \n",
      "        Eplsilon: 0.7862129588441364 \n",
      "        Learning Rate: 0.1\n",
      "        \n"
     ]
    },
    {
     "data": {
      "image/png": "[encoded data removed]",
      "text/plain": [
       "<Figure size 640x480 with 1 Axes>"
      ]
     },
     "metadata": {},
     "output_type": "display_data"
    },
    {
     "name": "stdout",
     "output_type": "stream",
     "text": [
      "Episode: 139263 \n",
      "        Avg Iterations (last 4096 episodes): 13.57 \n",
      "        Avg Score (last 4096): 27.9211 \n",
      "        SnakeLength: 1.078857421875 \n",
      "        Eplsilon: 0.7829992151978771 \n",
      "        Learning Rate: 0.1\n",
      "        \n"
     ]
    },
    {
     "data": {
      "image/png": "[encoded data removed]",
      "text/plain": [
       "<Figure size 640x480 with 1 Axes>"
      ]
     },
     "metadata": {},
     "output_type": "display_data"
    },
    {
     "name": "stdout",
     "output_type": "stream",
     "text": [
      "Episode: 143359 \n",
      "        Avg Iterations (last 4096 episodes): 13.36 \n",
      "        Avg Score (last 4096): 27.8560 \n",
      "        SnakeLength: 1.083984375 \n",
      "        Eplsilon: 0.7797986081300781 \n",
      "        Learning Rate: 0.1\n",
      "        \n"
     ]
    },
    {
     "data": {
      "image/png": "[encoded data removed]",
      "text/plain": [
       "<Figure size 640x480 with 1 Axes>"
      ]
     },
     "metadata": {},
     "output_type": "display_data"
    },
    {
     "name": "stdout",
     "output_type": "stream",
     "text": [
      "Episode: 147455 \n",
      "        Avg Iterations (last 4096 episodes): 13.55 \n",
      "        Avg Score (last 4096): 28.3838 \n",
      "        SnakeLength: 1.08154296875 \n",
      "        Eplsilon: 0.7766110839433421 \n",
      "        Learning Rate: 0.1\n",
      "        \n"
     ]
    },
    {
     "data": {
      "image/png": "[encoded data removed]",
      "text/plain": [
       "<Figure size 640x480 with 1 Axes>"
      ]
     },
     "metadata": {},
     "output_type": "display_data"
    },
    {
     "name": "stdout",
     "output_type": "stream",
     "text": [
      "Episode: 151551 \n",
      "        Avg Iterations (last 4096 episodes): 13.57 \n",
      "        Avg Score (last 4096): 28.3496 \n",
      "        SnakeLength: 1.079345703125 \n",
      "        Eplsilon: 0.773436589159757 \n",
      "        Learning Rate: 0.1\n",
      "        \n"
     ]
    },
    {
     "data": {
      "image/png": "[encoded data removed]",
      "text/plain": [
       "<Figure size 640x480 with 1 Axes>"
      ]
     },
     "metadata": {},
     "output_type": "display_data"
    },
    {
     "name": "stdout",
     "output_type": "stream",
     "text": [
      "Episode: 155647 \n",
      "        Avg Iterations (last 4096 episodes): 13.29 \n",
      "        Avg Score (last 4096): 27.3147 \n",
      "        SnakeLength: 1.07958984375 \n",
      "        Eplsilon: 0.7702750705200088 \n",
      "        Learning Rate: 0.1\n",
      "        \n"
     ]
    },
    {
     "data": {
      "image/png": "[encoded data removed]",
      "text/plain": [
       "<Figure size 640x480 with 1 Axes>"
      ]
     },
     "metadata": {},
     "output_type": "display_data"
    },
    {
     "name": "stdout",
     "output_type": "stream",
     "text": [
      "Episode: 159743 \n",
      "        Avg Iterations (last 4096 episodes): 13.53 \n",
      "        Avg Score (last 4096): 28.2690 \n",
      "        SnakeLength: 1.084228515625 \n",
      "        Eplsilon: 0.7671264749824884 \n",
      "        Learning Rate: 0.1\n",
      "        \n"
     ]
    },
    {
     "data": {
      "image/png": "[encoded data removed]",
      "text/plain": [
       "<Figure size 640x480 with 1 Axes>"
      ]
     },
     "metadata": {},
     "output_type": "display_data"
    },
    {
     "name": "stdout",
     "output_type": "stream",
     "text": [
      "Episode: 163839 \n",
      "        Avg Iterations (last 4096 episodes): 13.10 \n",
      "        Avg Score (last 4096): 27.2583 \n",
      "        SnakeLength: 1.078125 \n",
      "        Eplsilon: 0.7639907497224052 \n",
      "        Learning Rate: 0.1\n",
      "        \n"
     ]
    },
    {
     "data": {
      "image/png": "[encoded data removed]",
      "text/plain": [
       "<Figure size 640x480 with 1 Axes>"
      ]
     },
     "metadata": {},
     "output_type": "display_data"
    },
    {
     "name": "stdout",
     "output_type": "stream",
     "text": [
      "Episode: 167935 \n",
      "        Avg Iterations (last 4096 episodes): 13.13 \n",
      "        Avg Score (last 4096): 27.5352 \n",
      "        SnakeLength: 1.07958984375 \n",
      "        Eplsilon: 0.7608678421308878 \n",
      "        Learning Rate: 0.1\n",
      "        \n"
     ]
    },
    {
     "data": {
      "image/png": "[encoded data removed]",
      "text/plain": [
       "<Figure size 640x480 with 1 Axes>"
      ]
     },
     "metadata": {},
     "output_type": "display_data"
    },
    {
     "name": "stdout",
     "output_type": "stream",
     "text": [
      "Episode: 172031 \n",
      "        Avg Iterations (last 4096 episodes): 13.01 \n",
      "        Avg Score (last 4096): 27.2561 \n",
      "        SnakeLength: 1.0859375 \n",
      "        Eplsilon: 0.7577576998141173 \n",
      "        Learning Rate: 0.1\n",
      "        \n"
     ]
    },
    {
     "data": {
      "image/png": "[encoded data removed]",
      "text/plain": [
       "<Figure size 640x480 with 1 Axes>"
      ]
     },
     "metadata": {},
     "output_type": "display_data"
    },
    {
     "name": "stdout",
     "output_type": "stream",
     "text": [
      "Episode: 176127 \n",
      "        Avg Iterations (last 4096 episodes): 12.91 \n",
      "        Avg Score (last 4096): 26.5918 \n",
      "        SnakeLength: 1.077880859375 \n",
      "        Eplsilon: 0.7546602705924402 \n",
      "        Learning Rate: 0.1\n",
      "        \n"
     ]
    },
    {
     "data": {
      "image/png": "[encoded data removed]",
      "text/plain": [
       "<Figure size 640x480 with 1 Axes>"
      ]
     },
     "metadata": {},
     "output_type": "display_data"
    },
    {
     "name": "stdout",
     "output_type": "stream",
     "text": [
      "Episode: 180223 \n",
      "        Avg Iterations (last 4096 episodes): 12.84 \n",
      "        Avg Score (last 4096): 26.6733 \n",
      "        SnakeLength: 1.075927734375 \n",
      "        Eplsilon: 0.7515755024994945 \n",
      "        Learning Rate: 0.1\n",
      "        \n"
     ]
    },
    {
     "data": {
      "image/png": "[encoded data removed]",
      "text/plain": [
       "<Figure size 640x480 with 1 Axes>"
      ]
     },
     "metadata": {},
     "output_type": "display_data"
    },
    {
     "name": "stdout",
     "output_type": "stream",
     "text": [
      "Episode: 184319 \n",
      "        Avg Iterations (last 4096 episodes): 12.67 \n",
      "        Avg Score (last 4096): 26.2607 \n",
      "        SnakeLength: 1.08056640625 \n",
      "        Eplsilon: 0.7485033437813314 \n",
      "        Learning Rate: 0.1\n",
      "        \n"
     ]
    },
    {
     "data": {
      "image/png": "[encoded data removed]",
      "text/plain": [
       "<Figure size 640x480 with 1 Axes>"
      ]
     },
     "metadata": {},
     "output_type": "display_data"
    },
    {
     "name": "stdout",
     "output_type": "stream",
     "text": [
      "Episode: 188415 \n",
      "        Avg Iterations (last 4096 episodes): 12.46 \n",
      "        Avg Score (last 4096): 26.4792 \n",
      "        SnakeLength: 1.08740234375 \n",
      "        Eplsilon: 0.7454437428955624 \n",
      "        Learning Rate: 0.1\n",
      "        \n"
     ]
    },
    {
     "data": {
      "image/png": "[encoded data removed]",
      "text/plain": [
       "<Figure size 640x480 with 1 Axes>"
      ]
     },
     "metadata": {},
     "output_type": "display_data"
    },
    {
     "name": "stdout",
     "output_type": "stream",
     "text": [
      "Episode: 192511 \n",
      "        Avg Iterations (last 4096 episodes): 12.82 \n",
      "        Avg Score (last 4096): 26.3379 \n",
      "        SnakeLength: 1.0771484375 \n",
      "        Eplsilon: 0.7423966485104759 \n",
      "        Learning Rate: 0.1\n",
      "        \n"
     ]
    },
    {
     "data": {
      "image/png": "[encoded data removed]",
      "text/plain": [
       "<Figure size 640x480 with 1 Axes>"
      ]
     },
     "metadata": {},
     "output_type": "display_data"
    },
    {
     "name": "stdout",
     "output_type": "stream",
     "text": [
      "Episode: 196607 \n",
      "        Avg Iterations (last 4096 episodes): 12.70 \n",
      "        Avg Score (last 4096): 25.9233 \n",
      "        SnakeLength: 1.071044921875 \n",
      "        Eplsilon: 0.7393620095041885 \n",
      "        Learning Rate: 0.1\n",
      "        \n"
     ]
    },
    {
     "data": {
      "image/png": "[encoded data removed]",
      "text/plain": [
       "<Figure size 640x480 with 1 Axes>"
      ]
     },
     "metadata": {},
     "output_type": "display_data"
    },
    {
     "name": "stdout",
     "output_type": "stream",
     "text": [
      "Episode: 200703 \n",
      "        Avg Iterations (last 4096 episodes): 12.35 \n",
      "        Avg Score (last 4096): 25.6326 \n",
      "        SnakeLength: 1.07421875 \n",
      "        Eplsilon: 0.7363397749637866 \n",
      "        Learning Rate: 0.1\n",
      "        \n"
     ]
    },
    {
     "data": {
      "image/png": "[encoded data removed]",
      "text/plain": [
       "<Figure size 640x480 with 1 Axes>"
      ]
     },
     "metadata": {},
     "output_type": "display_data"
    },
    {
     "name": "stdout",
     "output_type": "stream",
     "text": [
      "Episode: 204799 \n",
      "        Avg Iterations (last 4096 episodes): 12.61 \n",
      "        Avg Score (last 4096): 26.0181 \n",
      "        SnakeLength: 1.072265625 \n",
      "        Eplsilon: 0.7333298941844638 \n",
      "        Learning Rate: 0.1\n",
      "        \n"
     ]
    },
    {
     "data": {
      "image/png": "[encoded data removed]",
      "text/plain": [
       "<Figure size 640x480 with 1 Axes>"
      ]
     },
     "metadata": {},
     "output_type": "display_data"
    },
    {
     "name": "stdout",
     "output_type": "stream",
     "text": [
      "Episode: 208895 \n",
      "        Avg Iterations (last 4096 episodes): 12.48 \n",
      "        Avg Score (last 4096): 25.7505 \n",
      "        SnakeLength: 1.076171875 \n",
      "        Eplsilon: 0.7303323166686791 \n",
      "        Learning Rate: 0.1\n",
      "        \n"
     ]
    },
    {
     "data": {
      "image/png": "[encoded data removed]",
      "text/plain": [
       "<Figure size 640x480 with 1 Axes>"
      ]
     },
     "metadata": {},
     "output_type": "display_data"
    },
    {
     "name": "stdout",
     "output_type": "stream",
     "text": [
      "Episode: 212991 \n",
      "        Avg Iterations (last 4096 episodes): 12.45 \n",
      "        Avg Score (last 4096): 25.4402 \n",
      "        SnakeLength: 1.0732421875 \n",
      "        Eplsilon: 0.7273469921253046 \n",
      "        Learning Rate: 0.1\n",
      "        \n"
     ]
    },
    {
     "data": {
      "image/png": "[encoded data removed]",
      "text/plain": [
       "<Figure size 640x480 with 1 Axes>"
      ]
     },
     "metadata": {},
     "output_type": "display_data"
    },
    {
     "name": "stdout",
     "output_type": "stream",
     "text": [
      "Episode: 217087 \n",
      "        Avg Iterations (last 4096 episodes): 12.31 \n",
      "        Avg Score (last 4096): 25.2070 \n",
      "        SnakeLength: 1.080810546875 \n",
      "        Eplsilon: 0.724373870468791 \n",
      "        Learning Rate: 0.1\n",
      "        \n"
     ]
    },
    {
     "data": {
      "image/png": "[encoded data removed]",
      "text/plain": [
       "<Figure size 640x480 with 1 Axes>"
      ]
     },
     "metadata": {},
     "output_type": "display_data"
    },
    {
     "name": "stdout",
     "output_type": "stream",
     "text": [
      "Episode: 221183 \n",
      "        Avg Iterations (last 4096 episodes): 12.28 \n",
      "        Avg Score (last 4096): 24.6946 \n",
      "        SnakeLength: 1.072998046875 \n",
      "        Eplsilon: 0.7214129018183116 \n",
      "        Learning Rate: 0.1\n",
      "        \n"
     ]
    },
    {
     "data": {
      "image/png": "[encoded data removed]",
      "text/plain": [
       "<Figure size 640x480 with 1 Axes>"
      ]
     },
     "metadata": {},
     "output_type": "display_data"
    },
    {
     "name": "stdout",
     "output_type": "stream",
     "text": [
      "Episode: 225279 \n",
      "        Avg Iterations (last 4096 episodes): 12.56 \n",
      "        Avg Score (last 4096): 25.4673 \n",
      "        SnakeLength: 1.071533203125 \n",
      "        Eplsilon: 0.718464036496935 \n",
      "        Learning Rate: 0.1\n",
      "        \n"
     ]
    },
    {
     "data": {
      "image/png": "[encoded data removed]",
      "text/plain": [
       "<Figure size 640x480 with 1 Axes>"
      ]
     },
     "metadata": {},
     "output_type": "display_data"
    },
    {
     "name": "stdout",
     "output_type": "stream",
     "text": [
      "Episode: 229375 \n",
      "        Avg Iterations (last 4096 episodes): 12.10 \n",
      "        Avg Score (last 4096): 25.1064 \n",
      "        SnakeLength: 1.0732421875 \n",
      "        Eplsilon: 0.715527225030794 \n",
      "        Learning Rate: 0.1\n",
      "        \n"
     ]
    },
    {
     "data": {
      "image/png": "[encoded data removed]",
      "text/plain": [
       "<Figure size 640x480 with 1 Axes>"
      ]
     },
     "metadata": {},
     "output_type": "display_data"
    },
    {
     "name": "stdout",
     "output_type": "stream",
     "text": [
      "Episode: 233471 \n",
      "        Avg Iterations (last 4096 episodes): 11.98 \n",
      "        Avg Score (last 4096): 24.6326 \n",
      "        SnakeLength: 1.076904296875 \n",
      "        Eplsilon: 0.7126024181482563 \n",
      "        Learning Rate: 0.1\n",
      "        \n"
     ]
    },
    {
     "data": {
      "image/png": "[encoded data removed]",
      "text/plain": [
       "<Figure size 640x480 with 1 Axes>"
      ]
     },
     "metadata": {},
     "output_type": "display_data"
    },
    {
     "name": "stdout",
     "output_type": "stream",
     "text": [
      "Episode: 237567 \n",
      "        Avg Iterations (last 4096 episodes): 12.23 \n",
      "        Avg Score (last 4096): 25.4927 \n",
      "        SnakeLength: 1.082275390625 \n",
      "        Eplsilon: 0.7096895667790818 \n",
      "        Learning Rate: 0.1\n",
      "        \n"
     ]
    },
    {
     "data": {
      "image/png": "[encoded data removed]",
      "text/plain": [
       "<Figure size 640x480 with 1 Axes>"
      ]
     },
     "metadata": {},
     "output_type": "display_data"
    },
    {
     "name": "stdout",
     "output_type": "stream",
     "text": [
      "Episode: 241663 \n",
      "        Avg Iterations (last 4096 episodes): 11.81 \n",
      "        Avg Score (last 4096): 24.5972 \n",
      "        SnakeLength: 1.076416015625 \n",
      "        Eplsilon: 0.7067886220536107 \n",
      "        Learning Rate: 0.1\n",
      "        \n"
     ]
    },
    {
     "data": {
      "image/png": "[encoded data removed]",
      "text/plain": [
       "<Figure size 640x480 with 1 Axes>"
      ]
     },
     "metadata": {},
     "output_type": "display_data"
    },
    {
     "name": "stdout",
     "output_type": "stream",
     "text": [
      "Episode: 245759 \n",
      "        Avg Iterations (last 4096 episodes): 11.58 \n",
      "        Avg Score (last 4096): 23.9062 \n",
      "        SnakeLength: 1.072998046875 \n",
      "        Eplsilon: 0.7038995353019564 \n",
      "        Learning Rate: 0.1\n",
      "        \n"
     ]
    },
    {
     "data": {
      "image/png": "[encoded data removed]",
      "text/plain": [
       "<Figure size 640x480 with 1 Axes>"
      ]
     },
     "metadata": {},
     "output_type": "display_data"
    },
    {
     "name": "stdout",
     "output_type": "stream",
     "text": [
      "Episode: 249855 \n",
      "        Avg Iterations (last 4096 episodes): 12.01 \n",
      "        Avg Score (last 4096): 24.8545 \n",
      "        SnakeLength: 1.079833984375 \n",
      "        Eplsilon: 0.7010222580531711 \n",
      "        Learning Rate: 0.1\n",
      "        \n"
     ]
    },
    {
     "data": {
      "image/png": "[encoded data removed]",
      "text/plain": [
       "<Figure size 640x480 with 1 Axes>"
      ]
     },
     "metadata": {},
     "output_type": "display_data"
    },
    {
     "name": "stdout",
     "output_type": "stream",
     "text": [
      "Episode: 253951 \n",
      "        Avg Iterations (last 4096 episodes): 11.50 \n",
      "        Avg Score (last 4096): 24.2522 \n",
      "        SnakeLength: 1.080078125 \n",
      "        Eplsilon: 0.6981567420344352 \n",
      "        Learning Rate: 0.1\n",
      "        \n"
     ]
    },
    {
     "data": {
      "image/png": "[encoded data removed]",
      "text/plain": [
       "<Figure size 640x480 with 1 Axes>"
      ]
     },
     "metadata": {},
     "output_type": "display_data"
    },
    {
     "name": "stdout",
     "output_type": "stream",
     "text": [
      "Episode: 258047 \n",
      "        Avg Iterations (last 4096 episodes): 11.72 \n",
      "        Avg Score (last 4096): 24.3701 \n",
      "        SnakeLength: 1.075927734375 \n",
      "        Eplsilon: 0.6953029391702529 \n",
      "        Learning Rate: 0.1\n",
      "        \n"
     ]
    },
    {
     "data": {
      "image/png": "[encoded data removed]",
      "text/plain": [
       "<Figure size 640x480 with 1 Axes>"
      ]
     },
     "metadata": {},
     "output_type": "display_data"
    },
    {
     "name": "stdout",
     "output_type": "stream",
     "text": [
      "Episode: 262143 \n",
      "        Avg Iterations (last 4096 episodes): 11.41 \n",
      "        Avg Score (last 4096): 23.4895 \n",
      "        SnakeLength: 1.077880859375 \n",
      "        Eplsilon: 0.6924608015816379 \n",
      "        Learning Rate: 0.1\n",
      "        \n"
     ]
    },
    {
     "data": {
      "image/png": "[encoded data removed]",
      "text/plain": [
       "<Figure size 640x480 with 1 Axes>"
      ]
     },
     "metadata": {},
     "output_type": "display_data"
    },
    {
     "data": {
      "image/png": "[encoded data removed]",
      "text/plain": [
       "<Figure size 1200x500 with 2 Axes>"
      ]
     },
     "metadata": {},
     "output_type": "display_data"
    },
    {
     "data": {
      "image/png": "[encoded data removed]",
      "text/plain": [
       "<Figure size 640x480 with 1 Axes>"
      ]
     },
     "metadata": {},
     "output_type": "display_data"
    }
   ],
   "source": [
    "# Hyperparameters\n",
    "\n",
    "input_dim = TOTAL_GRID_SIZE**2 + 6\n",
    "device = torch.device(\"cuda\" if torch.cuda.is_available() else \"cpu\")\n",
    "print(f'Number of GPUs: {torch.cuda.device_count()}')\n",
    "print(f'Device: {device}')\n",
    "agent = DQNAgent(input_dim=input_dim , output_dim=4) # Fill input dimension\n",
    "action_mapping = {\n",
    "            0: Direction.UP,\n",
    "            1: Direction.DOWN,\n",
    "            2: Direction.LEFT,\n",
    "            3: Direction.RIGHT\n",
    "        }\n",
    "iterations_plot_list = []\n",
    "scores_plot_list = []\n",
    "moving_avg_iterations = deque(maxlen=PRINT_FREQUENCY)\n",
    "moving_avg_scores = deque(maxlen=PRINT_FREQUENCY)\n",
    "moving_avg_length = deque(maxlen=PRINT_FREQUENCY)\n",
    "for episode in range(EPISODES):\n",
    "    set_seed(SEED + episode)\n",
    "    starting_head_location = random.choice(list(EMPTY_GRID_SET))\n",
    "    starting_apple_location = random.choice(list(EMPTY_GRID_SET - set(starting_head_location)))\n",
    "    iteration_count = 0\n",
    "    done, snake_queue, apple_location, distance_traveled_to_apple, distance_to_apple, score = initialize_game(starting_head_location, starting_apple_location)\n",
    "    state = encode_state(snake_queue, apple_location, distance_traveled_to_apple, score)\n",
    "\n",
    "    while not done:\n",
    "        iteration_count += 1\n",
    "        action_index = agent.get_action(state)\n",
    "        done, snake_queue, apple_location, distance_traveled_to_apple, new_score = update_state(snake_queue, apple_location, distance_traveled_to_apple, action_mapping[action_index], score)\n",
    "        next_state = encode_state(snake_queue, apple_location, distance_traveled_to_apple, new_score-score)\n",
    "        agent.buffer.push(next_state, action_index, new_score - score, next_state, done)\n",
    "        agent.update()\n",
    "        state = next_state\n",
    "        #game_grid = [state[i:i+TOTAL_GRID_SIZE] for i in range(0, TOTAL_GRID_SIZE**2, TOTAL_GRID_SIZE)]\n",
    "        #plot_game_board(game_grid)\n",
    "        score = new_score\n",
    "    \n",
    "    moving_avg_iterations.append(iteration_count)\n",
    "    moving_avg_scores.append(score)\n",
    "    moving_avg_length.append(len(snake_queue))\n",
    "    \n",
    "    plot_board = True\n",
    "    if ((episode + 1) % PRINT_FREQUENCY == 0):\n",
    "        avg_iterations = sum(moving_avg_iterations) / len(moving_avg_iterations)\n",
    "        avg_score = sum(moving_avg_scores) / len(moving_avg_scores)\n",
    "        avg_length = sum(moving_avg_length)/ len(moving_avg_length)\n",
    "        iterations_plot_list.append(avg_iterations)\n",
    "        scores_plot_list.append(avg_score)\n",
    "        print(f'''Episode: {episode} \n",
    "        Avg Iterations (last {PRINT_FREQUENCY} episodes): {avg_iterations:.2f} \n",
    "        Avg Score (last {PRINT_FREQUENCY}): {avg_score:.4f} \n",
    "        SnakeLength: {avg_length} \n",
    "        Eplsilon: {agent.get_epsilon()} \n",
    "        Learning Rate: {agent.get_lr()}\n",
    "        ''')\n",
    "        if plot_board:\n",
    "            game_grid = [state[i:i+TOTAL_GRID_SIZE] for i in range(0, TOTAL_GRID_SIZE**2, TOTAL_GRID_SIZE)]\n",
    "            plot_game_board(game_grid)\n",
    "    agent.decay_epsilon()\n",
    "    if episode % 2**8 == 0: # Sync every 10 episodes\n",
    "        agent.sync_target()\n",
    "\n",
    "plot_series(iterations_plot_list, scores_plot_list)\n",
    "game_grid = [state[i:i+TOTAL_GRID_SIZE] for i in range(0, TOTAL_GRID_SIZE**2, TOTAL_GRID_SIZE)]\n",
    "plot_game_board(game_grid)"
   ]
  },
  {
   "cell_type": "markdown",
   "id": "336f90d4",
   "metadata": {
    "papermill": {
     "duration": 0.032018,
     "end_time": "2023-08-08T18:33:30.842953",
     "exception": false,
     "start_time": "2023-08-08T18:33:30.810935",
     "status": "completed"
    },
    "tags": []
   },
   "source": [
    "Absolutely! Systematic hyperparameter tuning and debugging is crucial in reinforcement learning to ensure efficient learning. Let's outline a structured approach:\n",
    "\n",
    "1. Baseline and Simplification:\n",
    "Start with a simpler version of the problem. Perhaps a smaller grid or an environment where the apple is always in the same place.\n",
    "Make the network as simple as possible. Once you see it learning, gradually increase its complexity.\n",
    "2. Diagnosis:\n",
    "Visualizations: Visualize the agent's decisions over time. Is it exploring enough? Is it getting stuck in a loop?\n",
    "Reward Analysis: Print the rewards obtained during each step. Is the agent getting the expected rewards for its actions?\n",
    "Gradient Checks: Monitor the magnitude of the gradients. If they're too small, you might be dealing with vanishing gradients; if they're too large, exploding gradients.\n",
    "Q-value Analysis: Plot the Q-values over time. Are they diverging or converging? Are they increasing for the correct actions and decreasing for the incorrect ones?\n",
    "Action Distribution: Check the distribution of actions taken by the agent. Is it too biased towards one action? This can indicate that the agent has found a loophole in the reward system or isn't exploring enough.\n",
    "3. Hyperparameter Tuning:\n",
    "Grid Search: Start with broader ranges for hyperparameters like learning rate, epsilon decay, etc., and then narrow down.\n",
    "Random Search: Sometimes better than grid search, as it can explore the hyperparameter space more diversely.\n",
    "Bayesian Optimization: Tools like Optuna, Hyperopt, or frameworks like Ray Tune can be very efficient for hyperparameter tuning in RL.\n",
    "4. Incremental Changes:\n",
    "Change one thing at a time and observe its impact. If you adjust multiple things and something goes wrong (or right), you won't know what caused it.\n",
    "5. Check Environment Dynamics:\n",
    "Ensure there are no bugs in the environment itself, as these can majorly affect learning.\n",
    "6. Reproducibility:\n",
    "Start with established, reproducible baselines or reference implementations. If a well-known algorithm doesn't work in your environment, it's a strong signal that something might be off.\n",
    "7. Alternative Approaches:\n",
    "Curriculum Learning: Start with easier tasks and gradually move to complex ones.\n",
    "Reward Shaping: Sometimes, a more frequent, intermediate reward can guide the agent better than a sparse reward.\n",
    "Transfer Learning: If you have a model trained on a similar task, you can fine-tune it on your current task.\n",
    "8. Review Model Architecture:\n",
    "Ensure that the architecture is suitable for the task. Sometimes a simple feed-forward network might not suffice, and you might need recurrent layers or other architectures.\n",
    "Check the initialization methods for your neural network layers.\n",
    "9. Regular Monitoring and Logging:\n",
    "Tools like TensorBoard or Weights & Biases can be invaluable. Log scalars like loss, average reward, epsilon, and more complex data like histograms of network weights, Q-values, or even images of the game state.\n",
    "Remember, in RL, especially in environments with high variance, it's often valuable to run multiple seeds (starting points) and average the results to ensure the changes you're observing aren't just due to randomness.\n",
    "\n",
    "\n",
    "Your model's performance seems to be fluctuating with a limited increase in average score and snake length over the episodes. Let's troubleshoot:\n",
    "\n",
    "Learning Rate and Decay: Your learning rate LEARNING_RATE = 1e-2 is relatively high for a deep learning problem, especially when it is decaying at every episode. As the learning rate drops, the model might make smaller and smaller updates, leading to slow or stalled learning. Consider using a slightly higher learning rate or decaying it less frequently.\n",
    "\n",
    "Reward Structure: The reward structure plays a critical role in RL. Let's analyze:\n",
    "\n",
    "MOVEMENT_BONUS: It's quite high for just moving. This might encourage the snake to move around without necessarily targeting the apple.\n",
    "WALL_PENALTY: It's a good idea to penalize the snake for hitting the wall. However, consider the magnitude. Is -10 too low or too high relative to other rewards?\n",
    "WIN_BONUS: This bonus is huge compared to other rewards. While this can incentivize winning, the agent might never achieve this state if it's too focused on smaller rewards (like movement).\n",
    "Epsilon Decay: Your epsilon is decaying at a rate of 1e-5 which means it will approach its minimum quite slowly. This means that exploration will continue to dominate for many episodes. It might be worthwhile to allow the agent to exploit its knowledge sooner by adjusting the decay rate or setting a threshold episode after which epsilon decreases more rapidly.\n",
    "\n",
    "Network Architecture: We haven't seen the architecture of the DQN. The model's complexity, layers, and activation functions can impact its ability to learn. Consider experimenting with different architectures.\n",
    "\n",
    "Replay Buffer: How is your buffer implemented? Too small a buffer can cause the agent to forget previous experiences quickly. On the other hand, a very large buffer might make the agent focus too much on older experiences. Also, the sampling strategy can make a difference. Prioritized experience replay can sometimes enhance learning.\n",
    "\n",
    "Initialization: How are the weights of your DQN initialized? Poor initialization can hamper learning.\n",
    "\n",
    "Training Frequency: Consider adjusting how often you sync the target network with the DQN. Syncing too frequently can lead to chasing a moving target, while too infrequent can slow down learning.\n",
    "\n",
    "Exploration vs. Exploitation: Printing the epsilon value periodically will give insight into how much exploration vs. exploitation is being done. If it's still in a high exploration mode, consider adjusting the decay.\n",
    "\n",
    "Environment Dynamics: Ensure that the environment (like apple placement, snake initialization) does not have any bugs or undesired behaviors that can affect learning.\n",
    "\n",
    "Visual Analysis: Sometimes, it's beneficial to visually observe the agent in action. Look for any repetitive or strange behaviors.\n",
    "\n",
    "Grad Check: Ensure gradients aren't vanishing or exploding during backpropagation. This can be done by checking the norms of the gradients.\n",
    "\n",
    "After making any changes, it's essential to retrain and observe the agent's behavior. Remember, deep reinforcement learning can be sensitive to hyperparameters and often requires multiple iterations and tweaks for convergence."
   ]
  },
  {
   "cell_type": "markdown",
   "id": "8152a78b",
   "metadata": {
    "papermill": {
     "duration": 0.023716,
     "end_time": "2023-08-08T18:33:30.890542",
     "exception": false,
     "start_time": "2023-08-08T18:33:30.866826",
     "status": "completed"
    },
    "tags": []
   },
   "source": []
  }
 ],
 "metadata": {
  "kernelspec": {
   "display_name": "Python 3",
   "language": "python",
   "name": "python3"
  },
  "language_info": {
   "codemirror_mode": {
    "name": "ipython",
    "version": 3
   },
   "file_extension": ".py",
   "mimetype": "text/x-python",
   "name": "python",
   "nbconvert_exporter": "python",
   "pygments_lexer": "ipython3",
   "version": "3.10.12"
  },
  "papermill": {
   "default_parameters": {},
   "duration": 561.663186,
   "end_time": "2023-08-08T18:33:32.240038",
   "environment_variables": {},
   "exception": null,
   "input_path": "__notebook__.ipynb",
   "output_path": "__notebook__.ipynb",
   "parameters": {},
   "start_time": "2023-08-08T18:24:10.576852",
   "version": "2.4.0"
  }
 },
 "nbformat": 4,
 "nbformat_minor": 5
}
